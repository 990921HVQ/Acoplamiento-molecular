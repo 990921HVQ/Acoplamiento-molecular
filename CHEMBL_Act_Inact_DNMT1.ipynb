{
  "nbformat": 4,
  "nbformat_minor": 0,
  "metadata": {
    "colab": {
      "provenance": [],
      "mount_file_id": "1X2cx3r1BlTcY3FAj-CM4erNf3g1tiIv6",
      "authorship_tag": "ABX9TyMAOXsNE+RTXcH4zqbCLAjV",
      "include_colab_link": true
    },
    "kernelspec": {
      "name": "python3",
      "display_name": "Python 3"
    },
    "language_info": {
      "name": "python"
    },
    "widgets": {
      "application/vnd.jupyter.widget-state+json": {
        "0ad0f88478c041b59a7030ba549e4c41": {
          "model_module": "@jupyter-widgets/controls",
          "model_name": "HBoxModel",
          "model_module_version": "1.5.0",
          "state": {
            "_dom_classes": [],
            "_model_module": "@jupyter-widgets/controls",
            "_model_module_version": "1.5.0",
            "_model_name": "HBoxModel",
            "_view_count": null,
            "_view_module": "@jupyter-widgets/controls",
            "_view_module_version": "1.5.0",
            "_view_name": "HBoxView",
            "box_style": "",
            "children": [
              "IPY_MODEL_548f902e7816400bb2274ce0e286c996",
              "IPY_MODEL_9dbd03af90d44f2d9a7953bc24ed6633",
              "IPY_MODEL_3e073c9811cc42d9af50bb3531af6d19"
            ],
            "layout": "IPY_MODEL_f4a5e1fe2419405a883cb792a874c595"
          }
        },
        "548f902e7816400bb2274ce0e286c996": {
          "model_module": "@jupyter-widgets/controls",
          "model_name": "HTMLModel",
          "model_module_version": "1.5.0",
          "state": {
            "_dom_classes": [],
            "_model_module": "@jupyter-widgets/controls",
            "_model_module_version": "1.5.0",
            "_model_name": "HTMLModel",
            "_view_count": null,
            "_view_module": "@jupyter-widgets/controls",
            "_view_module_version": "1.5.0",
            "_view_name": "HTMLView",
            "description": "",
            "description_tooltip": null,
            "layout": "IPY_MODEL_7c4549e7a2be4897989526dd50bad6b1",
            "placeholder": "​",
            "style": "IPY_MODEL_1bda687a1bec40258439a30ecde515bc",
            "value": "100%"
          }
        },
        "9dbd03af90d44f2d9a7953bc24ed6633": {
          "model_module": "@jupyter-widgets/controls",
          "model_name": "FloatProgressModel",
          "model_module_version": "1.5.0",
          "state": {
            "_dom_classes": [],
            "_model_module": "@jupyter-widgets/controls",
            "_model_module_version": "1.5.0",
            "_model_name": "FloatProgressModel",
            "_view_count": null,
            "_view_module": "@jupyter-widgets/controls",
            "_view_module_version": "1.5.0",
            "_view_name": "ProgressView",
            "bar_style": "success",
            "description": "",
            "description_tooltip": null,
            "layout": "IPY_MODEL_eb2c32028fdc4dfca94db3e872dc815e",
            "max": 196,
            "min": 0,
            "orientation": "horizontal",
            "style": "IPY_MODEL_c59b877b5013441abac3f83df0bb4f10",
            "value": 196
          }
        },
        "3e073c9811cc42d9af50bb3531af6d19": {
          "model_module": "@jupyter-widgets/controls",
          "model_name": "HTMLModel",
          "model_module_version": "1.5.0",
          "state": {
            "_dom_classes": [],
            "_model_module": "@jupyter-widgets/controls",
            "_model_module_version": "1.5.0",
            "_model_name": "HTMLModel",
            "_view_count": null,
            "_view_module": "@jupyter-widgets/controls",
            "_view_module_version": "1.5.0",
            "_view_name": "HTMLView",
            "description": "",
            "description_tooltip": null,
            "layout": "IPY_MODEL_7c655de72cca463185e17a919e9781f0",
            "placeholder": "​",
            "style": "IPY_MODEL_dbec797e200742dcaa715f9df34955b8",
            "value": " 196/196 [00:11&lt;00:00, 17.30it/s]"
          }
        },
        "f4a5e1fe2419405a883cb792a874c595": {
          "model_module": "@jupyter-widgets/base",
          "model_name": "LayoutModel",
          "model_module_version": "1.2.0",
          "state": {
            "_model_module": "@jupyter-widgets/base",
            "_model_module_version": "1.2.0",
            "_model_name": "LayoutModel",
            "_view_count": null,
            "_view_module": "@jupyter-widgets/base",
            "_view_module_version": "1.2.0",
            "_view_name": "LayoutView",
            "align_content": null,
            "align_items": null,
            "align_self": null,
            "border": null,
            "bottom": null,
            "display": null,
            "flex": null,
            "flex_flow": null,
            "grid_area": null,
            "grid_auto_columns": null,
            "grid_auto_flow": null,
            "grid_auto_rows": null,
            "grid_column": null,
            "grid_gap": null,
            "grid_row": null,
            "grid_template_areas": null,
            "grid_template_columns": null,
            "grid_template_rows": null,
            "height": null,
            "justify_content": null,
            "justify_items": null,
            "left": null,
            "margin": null,
            "max_height": null,
            "max_width": null,
            "min_height": null,
            "min_width": null,
            "object_fit": null,
            "object_position": null,
            "order": null,
            "overflow": null,
            "overflow_x": null,
            "overflow_y": null,
            "padding": null,
            "right": null,
            "top": null,
            "visibility": null,
            "width": null
          }
        },
        "7c4549e7a2be4897989526dd50bad6b1": {
          "model_module": "@jupyter-widgets/base",
          "model_name": "LayoutModel",
          "model_module_version": "1.2.0",
          "state": {
            "_model_module": "@jupyter-widgets/base",
            "_model_module_version": "1.2.0",
            "_model_name": "LayoutModel",
            "_view_count": null,
            "_view_module": "@jupyter-widgets/base",
            "_view_module_version": "1.2.0",
            "_view_name": "LayoutView",
            "align_content": null,
            "align_items": null,
            "align_self": null,
            "border": null,
            "bottom": null,
            "display": null,
            "flex": null,
            "flex_flow": null,
            "grid_area": null,
            "grid_auto_columns": null,
            "grid_auto_flow": null,
            "grid_auto_rows": null,
            "grid_column": null,
            "grid_gap": null,
            "grid_row": null,
            "grid_template_areas": null,
            "grid_template_columns": null,
            "grid_template_rows": null,
            "height": null,
            "justify_content": null,
            "justify_items": null,
            "left": null,
            "margin": null,
            "max_height": null,
            "max_width": null,
            "min_height": null,
            "min_width": null,
            "object_fit": null,
            "object_position": null,
            "order": null,
            "overflow": null,
            "overflow_x": null,
            "overflow_y": null,
            "padding": null,
            "right": null,
            "top": null,
            "visibility": null,
            "width": null
          }
        },
        "1bda687a1bec40258439a30ecde515bc": {
          "model_module": "@jupyter-widgets/controls",
          "model_name": "DescriptionStyleModel",
          "model_module_version": "1.5.0",
          "state": {
            "_model_module": "@jupyter-widgets/controls",
            "_model_module_version": "1.5.0",
            "_model_name": "DescriptionStyleModel",
            "_view_count": null,
            "_view_module": "@jupyter-widgets/base",
            "_view_module_version": "1.2.0",
            "_view_name": "StyleView",
            "description_width": ""
          }
        },
        "eb2c32028fdc4dfca94db3e872dc815e": {
          "model_module": "@jupyter-widgets/base",
          "model_name": "LayoutModel",
          "model_module_version": "1.2.0",
          "state": {
            "_model_module": "@jupyter-widgets/base",
            "_model_module_version": "1.2.0",
            "_model_name": "LayoutModel",
            "_view_count": null,
            "_view_module": "@jupyter-widgets/base",
            "_view_module_version": "1.2.0",
            "_view_name": "LayoutView",
            "align_content": null,
            "align_items": null,
            "align_self": null,
            "border": null,
            "bottom": null,
            "display": null,
            "flex": null,
            "flex_flow": null,
            "grid_area": null,
            "grid_auto_columns": null,
            "grid_auto_flow": null,
            "grid_auto_rows": null,
            "grid_column": null,
            "grid_gap": null,
            "grid_row": null,
            "grid_template_areas": null,
            "grid_template_columns": null,
            "grid_template_rows": null,
            "height": null,
            "justify_content": null,
            "justify_items": null,
            "left": null,
            "margin": null,
            "max_height": null,
            "max_width": null,
            "min_height": null,
            "min_width": null,
            "object_fit": null,
            "object_position": null,
            "order": null,
            "overflow": null,
            "overflow_x": null,
            "overflow_y": null,
            "padding": null,
            "right": null,
            "top": null,
            "visibility": null,
            "width": null
          }
        },
        "c59b877b5013441abac3f83df0bb4f10": {
          "model_module": "@jupyter-widgets/controls",
          "model_name": "ProgressStyleModel",
          "model_module_version": "1.5.0",
          "state": {
            "_model_module": "@jupyter-widgets/controls",
            "_model_module_version": "1.5.0",
            "_model_name": "ProgressStyleModel",
            "_view_count": null,
            "_view_module": "@jupyter-widgets/base",
            "_view_module_version": "1.2.0",
            "_view_name": "StyleView",
            "bar_color": null,
            "description_width": ""
          }
        },
        "7c655de72cca463185e17a919e9781f0": {
          "model_module": "@jupyter-widgets/base",
          "model_name": "LayoutModel",
          "model_module_version": "1.2.0",
          "state": {
            "_model_module": "@jupyter-widgets/base",
            "_model_module_version": "1.2.0",
            "_model_name": "LayoutModel",
            "_view_count": null,
            "_view_module": "@jupyter-widgets/base",
            "_view_module_version": "1.2.0",
            "_view_name": "LayoutView",
            "align_content": null,
            "align_items": null,
            "align_self": null,
            "border": null,
            "bottom": null,
            "display": null,
            "flex": null,
            "flex_flow": null,
            "grid_area": null,
            "grid_auto_columns": null,
            "grid_auto_flow": null,
            "grid_auto_rows": null,
            "grid_column": null,
            "grid_gap": null,
            "grid_row": null,
            "grid_template_areas": null,
            "grid_template_columns": null,
            "grid_template_rows": null,
            "height": null,
            "justify_content": null,
            "justify_items": null,
            "left": null,
            "margin": null,
            "max_height": null,
            "max_width": null,
            "min_height": null,
            "min_width": null,
            "object_fit": null,
            "object_position": null,
            "order": null,
            "overflow": null,
            "overflow_x": null,
            "overflow_y": null,
            "padding": null,
            "right": null,
            "top": null,
            "visibility": null,
            "width": null
          }
        },
        "dbec797e200742dcaa715f9df34955b8": {
          "model_module": "@jupyter-widgets/controls",
          "model_name": "DescriptionStyleModel",
          "model_module_version": "1.5.0",
          "state": {
            "_model_module": "@jupyter-widgets/controls",
            "_model_module_version": "1.5.0",
            "_model_name": "DescriptionStyleModel",
            "_view_count": null,
            "_view_module": "@jupyter-widgets/base",
            "_view_module_version": "1.2.0",
            "_view_name": "StyleView",
            "description_width": ""
          }
        }
      }
    }
  },
  "cells": [
    {
      "cell_type": "markdown",
      "metadata": {
        "id": "view-in-github",
        "colab_type": "text"
      },
      "source": [
        "<a href=\"https://colab.research.google.com/github/990921HVQ/Acoplamiento-molecular/blob/main/CHEMBL_Act_Inact_DNMT1.ipynb\" target=\"_parent\"><img src=\"https://colab.research.google.com/assets/colab-badge.svg\" alt=\"Open In Colab\"/></a>"
      ]
    },
    {
      "cell_type": "code",
      "source": [
        "%cd /content/drive/MyDrive/Base de datos_SQA_HVQ/Bioactividades_CHEMBL/DNMT1/196_compuestos"
      ],
      "metadata": {
        "colab": {
          "base_uri": "https://localhost:8080/"
        },
        "id": "b4XBvurdA4sb",
        "outputId": "b304feb6-5dea-4dc6-a108-28515a091fc4"
      },
      "execution_count": null,
      "outputs": [
        {
          "output_type": "stream",
          "name": "stdout",
          "text": [
            "/content/drive/MyDrive/Base de datos_SQA_HVQ/Bioactividades_CHEMBL/DNMT1/196_compuestos\n"
          ]
        }
      ]
    },
    {
      "cell_type": "code",
      "execution_count": null,
      "metadata": {
        "colab": {
          "base_uri": "https://localhost:8080/"
        },
        "id": "PvbkL9ovTgFG",
        "outputId": "6a4a02f2-2fde-41a6-e119-95a079bbc142"
      },
      "outputs": [
        {
          "output_type": "stream",
          "name": "stdout",
          "text": [
            "Looking in indexes: https://pypi.org/simple, https://us-python.pkg.dev/colab-wheels/public/simple/\n",
            "Collecting rdkit\n",
            "  Downloading rdkit-2022.9.5-cp38-cp38-manylinux_2_17_x86_64.manylinux2014_x86_64.whl (29.4 MB)\n",
            "\u001b[2K     \u001b[90m━━━━━━━━━━━━━━━━━━━━━━━━━━━━━━━━━━━━━━━━\u001b[0m \u001b[32m29.4/29.4 MB\u001b[0m \u001b[31m27.1 MB/s\u001b[0m eta \u001b[36m0:00:00\u001b[0m\n",
            "\u001b[?25hRequirement already satisfied: Pillow in /usr/local/lib/python3.8/dist-packages (from rdkit) (8.4.0)\n",
            "Requirement already satisfied: numpy in /usr/local/lib/python3.8/dist-packages (from rdkit) (1.22.4)\n",
            "Installing collected packages: rdkit\n",
            "Successfully installed rdkit-2022.9.5\n"
          ]
        }
      ],
      "source": [
        "!pip install rdkit"
      ]
    },
    {
      "cell_type": "code",
      "source": [
        "!pip install chembl_webresource_client"
      ],
      "metadata": {
        "colab": {
          "base_uri": "https://localhost:8080/"
        },
        "id": "QRIfoPpuTiY9",
        "outputId": "1e6ed14e-6a55-4964-8f61-a9c941dfe631"
      },
      "execution_count": null,
      "outputs": [
        {
          "output_type": "stream",
          "name": "stdout",
          "text": [
            "Looking in indexes: https://pypi.org/simple, https://us-python.pkg.dev/colab-wheels/public/simple/\n",
            "Collecting chembl_webresource_client\n",
            "  Downloading chembl_webresource_client-0.10.8-py3-none-any.whl (55 kB)\n",
            "\u001b[2K     \u001b[90m━━━━━━━━━━━━━━━━━━━━━━━━━━━━━━━━━━━━━━━━\u001b[0m \u001b[32m55.2/55.2 KB\u001b[0m \u001b[31m5.7 MB/s\u001b[0m eta \u001b[36m0:00:00\u001b[0m\n",
            "\u001b[?25hRequirement already satisfied: easydict in /usr/local/lib/python3.8/dist-packages (from chembl_webresource_client) (1.10)\n",
            "Requirement already satisfied: urllib3 in /usr/local/lib/python3.8/dist-packages (from chembl_webresource_client) (1.26.14)\n",
            "Requirement already satisfied: requests>=2.18.4 in /usr/local/lib/python3.8/dist-packages (from chembl_webresource_client) (2.25.1)\n",
            "Collecting requests-cache~=0.7.0\n",
            "  Downloading requests_cache-0.7.5-py3-none-any.whl (39 kB)\n",
            "Requirement already satisfied: idna<3,>=2.5 in /usr/local/lib/python3.8/dist-packages (from requests>=2.18.4->chembl_webresource_client) (2.10)\n",
            "Requirement already satisfied: chardet<5,>=3.0.2 in /usr/local/lib/python3.8/dist-packages (from requests>=2.18.4->chembl_webresource_client) (4.0.0)\n",
            "Requirement already satisfied: certifi>=2017.4.17 in /usr/local/lib/python3.8/dist-packages (from requests>=2.18.4->chembl_webresource_client) (2022.12.7)\n",
            "Collecting attrs<22.0,>=21.2\n",
            "  Downloading attrs-21.4.0-py2.py3-none-any.whl (60 kB)\n",
            "\u001b[2K     \u001b[90m━━━━━━━━━━━━━━━━━━━━━━━━━━━━━━━━━━━━━━━━\u001b[0m \u001b[32m60.6/60.6 KB\u001b[0m \u001b[31m6.4 MB/s\u001b[0m eta \u001b[36m0:00:00\u001b[0m\n",
            "\u001b[?25hCollecting url-normalize<2.0,>=1.4\n",
            "  Downloading url_normalize-1.4.3-py2.py3-none-any.whl (6.8 kB)\n",
            "Requirement already satisfied: pyyaml>=5.4 in /usr/local/lib/python3.8/dist-packages (from requests-cache~=0.7.0->chembl_webresource_client) (6.0)\n",
            "Requirement already satisfied: itsdangerous>=2.0.1 in /usr/local/lib/python3.8/dist-packages (from requests-cache~=0.7.0->chembl_webresource_client) (2.1.2)\n",
            "Requirement already satisfied: six in /usr/local/lib/python3.8/dist-packages (from url-normalize<2.0,>=1.4->requests-cache~=0.7.0->chembl_webresource_client) (1.15.0)\n",
            "Installing collected packages: url-normalize, attrs, requests-cache, chembl_webresource_client\n",
            "  Attempting uninstall: attrs\n",
            "    Found existing installation: attrs 22.2.0\n",
            "    Uninstalling attrs-22.2.0:\n",
            "      Successfully uninstalled attrs-22.2.0\n",
            "Successfully installed attrs-21.4.0 chembl_webresource_client-0.10.8 requests-cache-0.7.5 url-normalize-1.4.3\n"
          ]
        }
      ]
    },
    {
      "cell_type": "code",
      "source": [
        "import math\n",
        "from pathlib import Path\n",
        "from zipfile import ZipFile\n",
        "from tempfile import TemporaryDirectory\n",
        "\n",
        "import numpy as np\n",
        "import pandas as pd\n",
        "from rdkit.Chem import PandasTools\n",
        "from chembl_webresource_client.new_client import new_client\n",
        "from tqdm.auto import tqdm"
      ],
      "metadata": {
        "id": "R6eHmwllTlEt"
      },
      "execution_count": null,
      "outputs": []
    },
    {
      "cell_type": "code",
      "source": [
        "HERE = Path(_dh[-1])\n",
        "DATA = HERE / \"data\""
      ],
      "metadata": {
        "id": "IejXSCUiTp5l"
      },
      "execution_count": null,
      "outputs": []
    },
    {
      "cell_type": "code",
      "source": [
        "targets_api = new_client.target\n",
        "compounds_api = new_client.molecule\n",
        "bioactivities_api = new_client.activity"
      ],
      "metadata": {
        "id": "KgkgErvfTxR2"
      },
      "execution_count": null,
      "outputs": []
    },
    {
      "cell_type": "code",
      "source": [
        "type(targets_api)"
      ],
      "metadata": {
        "colab": {
          "base_uri": "https://localhost:8080/"
        },
        "id": "cawdbONlTzht",
        "outputId": "2a237927-db06-4923-cdb5-a739241dfa97"
      },
      "execution_count": null,
      "outputs": [
        {
          "output_type": "execute_result",
          "data": {
            "text/plain": [
              "chembl_webresource_client.query_set.QuerySet"
            ]
          },
          "metadata": {},
          "execution_count": 7
        }
      ]
    },
    {
      "cell_type": "code",
      "source": [
        "uniprot_id = \"P26358\""
      ],
      "metadata": {
        "id": "DAI3u9m4T49t"
      },
      "execution_count": null,
      "outputs": []
    },
    {
      "cell_type": "code",
      "source": [
        "targets = targets_api.get(target_components__accession=uniprot_id).only(\n",
        "    \"target_chembl_id\", \"organism\", \"pref_name\", \"target_type\"\n",
        ")\n",
        "print(f'The type of the targets is \"{type(targets)}\"')"
      ],
      "metadata": {
        "colab": {
          "base_uri": "https://localhost:8080/"
        },
        "id": "dBeY0l-qUPW8",
        "outputId": "6a743f22-febf-4217-9fc7-e74e9ec5188d"
      },
      "execution_count": null,
      "outputs": [
        {
          "output_type": "stream",
          "name": "stdout",
          "text": [
            "The type of the targets is \"<class 'chembl_webresource_client.query_set.QuerySet'>\"\n"
          ]
        }
      ]
    },
    {
      "cell_type": "code",
      "source": [
        "targets1 = pd.DataFrame.from_records(targets)\n",
        "targets1"
      ],
      "metadata": {
        "colab": {
          "base_uri": "https://localhost:8080/",
          "height": 112
        },
        "id": "xHSWHcFkUVP2",
        "outputId": "6743acfb-3f42-4dd2-9ddf-34ae077e5b6f"
      },
      "execution_count": null,
      "outputs": [
        {
          "output_type": "execute_result",
          "data": {
            "text/plain": [
              "       organism                             pref_name target_chembl_id  \\\n",
              "0  Homo sapiens  DNA (cytosine-5)-methyltransferase 1       CHEMBL1993   \n",
              "1  Homo sapiens  DNA (cytosine-5)-methyltransferase 1       CHEMBL1993   \n",
              "\n",
              "      target_type  \n",
              "0  SINGLE PROTEIN  \n",
              "1  SINGLE PROTEIN  "
            ],
            "text/html": [
              "\n",
              "  <div id=\"df-c01ce7ff-79da-42b5-9584-4c4364ecbbf4\">\n",
              "    <div class=\"colab-df-container\">\n",
              "      <div>\n",
              "<style scoped>\n",
              "    .dataframe tbody tr th:only-of-type {\n",
              "        vertical-align: middle;\n",
              "    }\n",
              "\n",
              "    .dataframe tbody tr th {\n",
              "        vertical-align: top;\n",
              "    }\n",
              "\n",
              "    .dataframe thead th {\n",
              "        text-align: right;\n",
              "    }\n",
              "</style>\n",
              "<table border=\"1\" class=\"dataframe\">\n",
              "  <thead>\n",
              "    <tr style=\"text-align: right;\">\n",
              "      <th></th>\n",
              "      <th>organism</th>\n",
              "      <th>pref_name</th>\n",
              "      <th>target_chembl_id</th>\n",
              "      <th>target_type</th>\n",
              "    </tr>\n",
              "  </thead>\n",
              "  <tbody>\n",
              "    <tr>\n",
              "      <th>0</th>\n",
              "      <td>Homo sapiens</td>\n",
              "      <td>DNA (cytosine-5)-methyltransferase 1</td>\n",
              "      <td>CHEMBL1993</td>\n",
              "      <td>SINGLE PROTEIN</td>\n",
              "    </tr>\n",
              "    <tr>\n",
              "      <th>1</th>\n",
              "      <td>Homo sapiens</td>\n",
              "      <td>DNA (cytosine-5)-methyltransferase 1</td>\n",
              "      <td>CHEMBL1993</td>\n",
              "      <td>SINGLE PROTEIN</td>\n",
              "    </tr>\n",
              "  </tbody>\n",
              "</table>\n",
              "</div>\n",
              "      <button class=\"colab-df-convert\" onclick=\"convertToInteractive('df-c01ce7ff-79da-42b5-9584-4c4364ecbbf4')\"\n",
              "              title=\"Convert this dataframe to an interactive table.\"\n",
              "              style=\"display:none;\">\n",
              "        \n",
              "  <svg xmlns=\"http://www.w3.org/2000/svg\" height=\"24px\"viewBox=\"0 0 24 24\"\n",
              "       width=\"24px\">\n",
              "    <path d=\"M0 0h24v24H0V0z\" fill=\"none\"/>\n",
              "    <path d=\"M18.56 5.44l.94 2.06.94-2.06 2.06-.94-2.06-.94-.94-2.06-.94 2.06-2.06.94zm-11 1L8.5 8.5l.94-2.06 2.06-.94-2.06-.94L8.5 2.5l-.94 2.06-2.06.94zm10 10l.94 2.06.94-2.06 2.06-.94-2.06-.94-.94-2.06-.94 2.06-2.06.94z\"/><path d=\"M17.41 7.96l-1.37-1.37c-.4-.4-.92-.59-1.43-.59-.52 0-1.04.2-1.43.59L10.3 9.45l-7.72 7.72c-.78.78-.78 2.05 0 2.83L4 21.41c.39.39.9.59 1.41.59.51 0 1.02-.2 1.41-.59l7.78-7.78 2.81-2.81c.8-.78.8-2.07 0-2.86zM5.41 20L4 18.59l7.72-7.72 1.47 1.35L5.41 20z\"/>\n",
              "  </svg>\n",
              "      </button>\n",
              "      \n",
              "  <style>\n",
              "    .colab-df-container {\n",
              "      display:flex;\n",
              "      flex-wrap:wrap;\n",
              "      gap: 12px;\n",
              "    }\n",
              "\n",
              "    .colab-df-convert {\n",
              "      background-color: #E8F0FE;\n",
              "      border: none;\n",
              "      border-radius: 50%;\n",
              "      cursor: pointer;\n",
              "      display: none;\n",
              "      fill: #1967D2;\n",
              "      height: 32px;\n",
              "      padding: 0 0 0 0;\n",
              "      width: 32px;\n",
              "    }\n",
              "\n",
              "    .colab-df-convert:hover {\n",
              "      background-color: #E2EBFA;\n",
              "      box-shadow: 0px 1px 2px rgba(60, 64, 67, 0.3), 0px 1px 3px 1px rgba(60, 64, 67, 0.15);\n",
              "      fill: #174EA6;\n",
              "    }\n",
              "\n",
              "    [theme=dark] .colab-df-convert {\n",
              "      background-color: #3B4455;\n",
              "      fill: #D2E3FC;\n",
              "    }\n",
              "\n",
              "    [theme=dark] .colab-df-convert:hover {\n",
              "      background-color: #434B5C;\n",
              "      box-shadow: 0px 1px 3px 1px rgba(0, 0, 0, 0.15);\n",
              "      filter: drop-shadow(0px 1px 2px rgba(0, 0, 0, 0.3));\n",
              "      fill: #FFFFFF;\n",
              "    }\n",
              "  </style>\n",
              "\n",
              "      <script>\n",
              "        const buttonEl =\n",
              "          document.querySelector('#df-c01ce7ff-79da-42b5-9584-4c4364ecbbf4 button.colab-df-convert');\n",
              "        buttonEl.style.display =\n",
              "          google.colab.kernel.accessAllowed ? 'block' : 'none';\n",
              "\n",
              "        async function convertToInteractive(key) {\n",
              "          const element = document.querySelector('#df-c01ce7ff-79da-42b5-9584-4c4364ecbbf4');\n",
              "          const dataTable =\n",
              "            await google.colab.kernel.invokeFunction('convertToInteractive',\n",
              "                                                     [key], {});\n",
              "          if (!dataTable) return;\n",
              "\n",
              "          const docLinkHtml = 'Like what you see? Visit the ' +\n",
              "            '<a target=\"_blank\" href=https://colab.research.google.com/notebooks/data_table.ipynb>data table notebook</a>'\n",
              "            + ' to learn more about interactive tables.';\n",
              "          element.innerHTML = '';\n",
              "          dataTable['output_type'] = 'display_data';\n",
              "          await google.colab.output.renderOutput(dataTable, element);\n",
              "          const docLink = document.createElement('div');\n",
              "          docLink.innerHTML = docLinkHtml;\n",
              "          element.appendChild(docLink);\n",
              "        }\n",
              "      </script>\n",
              "    </div>\n",
              "  </div>\n",
              "  "
            ]
          },
          "metadata": {},
          "execution_count": 10
        }
      ]
    },
    {
      "cell_type": "code",
      "source": [
        "target = targets1.iloc[0]\n",
        "target"
      ],
      "metadata": {
        "colab": {
          "base_uri": "https://localhost:8080/"
        },
        "id": "m9d2r5dBUaL2",
        "outputId": "ce7ece7e-85ac-44ff-87db-47cb5ac2e562"
      },
      "execution_count": null,
      "outputs": [
        {
          "output_type": "execute_result",
          "data": {
            "text/plain": [
              "organism                                    Homo sapiens\n",
              "pref_name           DNA (cytosine-5)-methyltransferase 1\n",
              "target_chembl_id                              CHEMBL1993\n",
              "target_type                               SINGLE PROTEIN\n",
              "Name: 0, dtype: object"
            ]
          },
          "metadata": {},
          "execution_count": 11
        }
      ]
    },
    {
      "cell_type": "code",
      "source": [
        "chembl_id = target.target_chembl_id\n",
        "print(f\"The target ChEMBL ID is {chembl_id}\")"
      ],
      "metadata": {
        "colab": {
          "base_uri": "https://localhost:8080/"
        },
        "id": "3HHRKjRRUgkN",
        "outputId": "2d22a60e-b6b1-4c58-be39-0fafb8224c15"
      },
      "execution_count": null,
      "outputs": [
        {
          "output_type": "stream",
          "name": "stdout",
          "text": [
            "The target ChEMBL ID is CHEMBL1993\n"
          ]
        }
      ]
    },
    {
      "cell_type": "code",
      "source": [
        "bioactivities = bioactivities_api.filter(\n",
        "    target_chembl_id=chembl_id, type=\"IC50\", relation=\"=\", assay_type=\"B\"\n",
        ").only(\n",
        "    \"activity_id\",\n",
        "    \"pref_name\",\n",
        "    \"assay_chembl_id\",\n",
        "    \"assay_description\",\n",
        "    \"assay_type\",\n",
        "    \"molecule_chembl_id\",\n",
        "    \"type\",\n",
        "    \"standard_units\",\n",
        "    \"relation\",\n",
        "    \"standard_value\",\n",
        "    \"target_chembl_id\",\n",
        "    \"target_organism\",)\n",
        "\n",
        "print(f\"Length and type of bioactivities object: {len(bioactivities)}, {type(bioactivities)}\")"
      ],
      "metadata": {
        "colab": {
          "base_uri": "https://localhost:8080/"
        },
        "id": "iKVjuqvTUhjm",
        "outputId": "dfd7e4d3-4833-4699-cb74-1e21773a088a"
      },
      "execution_count": null,
      "outputs": [
        {
          "output_type": "stream",
          "name": "stdout",
          "text": [
            "Length and type of bioactivities object: 233, <class 'chembl_webresource_client.query_set.QuerySet'>\n"
          ]
        }
      ]
    },
    {
      "cell_type": "code",
      "source": [
        "print(f\"Length and type of first element: {len(bioactivities[0])}, {type(bioactivities[0])}\")\n",
        "bioactivities[0]"
      ],
      "metadata": {
        "colab": {
          "base_uri": "https://localhost:8080/"
        },
        "id": "ov4dV7Q4UlSl",
        "outputId": "d9f22589-524d-4bcb-b7f0-86e409f8b75f"
      },
      "execution_count": null,
      "outputs": [
        {
          "output_type": "stream",
          "name": "stdout",
          "text": [
            "Length and type of first element: 13, <class 'dict'>\n"
          ]
        },
        {
          "output_type": "execute_result",
          "data": {
            "text/plain": [
              "{'activity_id': 1671884,\n",
              " 'assay_chembl_id': 'CHEMBL862798',\n",
              " 'assay_description': 'Inhibitory activity against DNA methyl transferase in leukemic NALM6 cells',\n",
              " 'assay_type': 'B',\n",
              " 'molecule_chembl_id': 'CHEMBL382617',\n",
              " 'relation': '=',\n",
              " 'standard_units': 'nM',\n",
              " 'standard_value': '100000.0',\n",
              " 'target_chembl_id': 'CHEMBL1993',\n",
              " 'target_organism': 'Homo sapiens',\n",
              " 'type': 'IC50',\n",
              " 'units': 'uM',\n",
              " 'value': '100.0'}"
            ]
          },
          "metadata": {},
          "execution_count": 14
        }
      ]
    },
    {
      "cell_type": "code",
      "source": [
        "bioactivities_df = pd.DataFrame.from_records(bioactivities)\n",
        "print(f\"DataFrame shape: {bioactivities_df.shape}\")\n",
        "bioactivities_df.head(8)"
      ],
      "metadata": {
        "colab": {
          "base_uri": "https://localhost:8080/"
        },
        "id": "nXzhIMsRUt4l",
        "outputId": "8816e9c2-a544-4054-f294-1a6b7c519f2a"
      },
      "execution_count": null,
      "outputs": [
        {
          "output_type": "stream",
          "name": "stdout",
          "text": [
            "DataFrame shape: (234, 13)\n"
          ]
        },
        {
          "output_type": "execute_result",
          "data": {
            "text/plain": [
              "   activity_id assay_chembl_id  \\\n",
              "0      1671884    CHEMBL862798   \n",
              "1      1671884    CHEMBL862798   \n",
              "2      1671886    CHEMBL862798   \n",
              "3      2676536   CHEMBL1036408   \n",
              "4      2676537   CHEMBL1036408   \n",
              "5      2676539   CHEMBL1036408   \n",
              "6      2676540   CHEMBL1036408   \n",
              "7      2676541   CHEMBL1036408   \n",
              "\n",
              "                                   assay_description assay_type  \\\n",
              "0  Inhibitory activity against DNA methyl transfe...          B   \n",
              "1  Inhibitory activity against DNA methyl transfe...          B   \n",
              "2  Inhibitory activity against DNA methyl transfe...          B   \n",
              "3  Inhibition of human recombinant DNMT1 expresse...          B   \n",
              "4  Inhibition of human recombinant DNMT1 expresse...          B   \n",
              "5  Inhibition of human recombinant DNMT1 expresse...          B   \n",
              "6  Inhibition of human recombinant DNMT1 expresse...          B   \n",
              "7  Inhibition of human recombinant DNMT1 expresse...          B   \n",
              "\n",
              "  molecule_chembl_id relation standard_units standard_value target_chembl_id  \\\n",
              "0       CHEMBL382617        =             nM       100000.0       CHEMBL1993   \n",
              "1       CHEMBL382617        =             nM       100000.0       CHEMBL1993   \n",
              "2       CHEMBL383475        =             nM        50000.0       CHEMBL1993   \n",
              "3       CHEMBL418052        =             nM         2000.0       CHEMBL1993   \n",
              "4       CHEMBL563570        =             nM       300000.0       CHEMBL1993   \n",
              "5       CHEMBL561047        =             nM        45000.0       CHEMBL1993   \n",
              "6       CHEMBL552309        =             nM         1500.0       CHEMBL1993   \n",
              "7       CHEMBL552246        =             nM         8000.0       CHEMBL1993   \n",
              "\n",
              "  target_organism  type units  value  \n",
              "0    Homo sapiens  IC50    uM  100.0  \n",
              "1    Homo sapiens  IC50    uM  100.0  \n",
              "2    Homo sapiens  IC50    uM   50.0  \n",
              "3    Homo sapiens  IC50    uM    2.0  \n",
              "4    Homo sapiens  IC50    uM  300.0  \n",
              "5    Homo sapiens  IC50    uM   45.0  \n",
              "6    Homo sapiens  IC50    uM    1.5  \n",
              "7    Homo sapiens  IC50    uM    8.0  "
            ],
            "text/html": [
              "\n",
              "  <div id=\"df-3581f78e-c565-4c35-81a4-b805c15cc65d\">\n",
              "    <div class=\"colab-df-container\">\n",
              "      <div>\n",
              "<style scoped>\n",
              "    .dataframe tbody tr th:only-of-type {\n",
              "        vertical-align: middle;\n",
              "    }\n",
              "\n",
              "    .dataframe tbody tr th {\n",
              "        vertical-align: top;\n",
              "    }\n",
              "\n",
              "    .dataframe thead th {\n",
              "        text-align: right;\n",
              "    }\n",
              "</style>\n",
              "<table border=\"1\" class=\"dataframe\">\n",
              "  <thead>\n",
              "    <tr style=\"text-align: right;\">\n",
              "      <th></th>\n",
              "      <th>activity_id</th>\n",
              "      <th>assay_chembl_id</th>\n",
              "      <th>assay_description</th>\n",
              "      <th>assay_type</th>\n",
              "      <th>molecule_chembl_id</th>\n",
              "      <th>relation</th>\n",
              "      <th>standard_units</th>\n",
              "      <th>standard_value</th>\n",
              "      <th>target_chembl_id</th>\n",
              "      <th>target_organism</th>\n",
              "      <th>type</th>\n",
              "      <th>units</th>\n",
              "      <th>value</th>\n",
              "    </tr>\n",
              "  </thead>\n",
              "  <tbody>\n",
              "    <tr>\n",
              "      <th>0</th>\n",
              "      <td>1671884</td>\n",
              "      <td>CHEMBL862798</td>\n",
              "      <td>Inhibitory activity against DNA methyl transfe...</td>\n",
              "      <td>B</td>\n",
              "      <td>CHEMBL382617</td>\n",
              "      <td>=</td>\n",
              "      <td>nM</td>\n",
              "      <td>100000.0</td>\n",
              "      <td>CHEMBL1993</td>\n",
              "      <td>Homo sapiens</td>\n",
              "      <td>IC50</td>\n",
              "      <td>uM</td>\n",
              "      <td>100.0</td>\n",
              "    </tr>\n",
              "    <tr>\n",
              "      <th>1</th>\n",
              "      <td>1671884</td>\n",
              "      <td>CHEMBL862798</td>\n",
              "      <td>Inhibitory activity against DNA methyl transfe...</td>\n",
              "      <td>B</td>\n",
              "      <td>CHEMBL382617</td>\n",
              "      <td>=</td>\n",
              "      <td>nM</td>\n",
              "      <td>100000.0</td>\n",
              "      <td>CHEMBL1993</td>\n",
              "      <td>Homo sapiens</td>\n",
              "      <td>IC50</td>\n",
              "      <td>uM</td>\n",
              "      <td>100.0</td>\n",
              "    </tr>\n",
              "    <tr>\n",
              "      <th>2</th>\n",
              "      <td>1671886</td>\n",
              "      <td>CHEMBL862798</td>\n",
              "      <td>Inhibitory activity against DNA methyl transfe...</td>\n",
              "      <td>B</td>\n",
              "      <td>CHEMBL383475</td>\n",
              "      <td>=</td>\n",
              "      <td>nM</td>\n",
              "      <td>50000.0</td>\n",
              "      <td>CHEMBL1993</td>\n",
              "      <td>Homo sapiens</td>\n",
              "      <td>IC50</td>\n",
              "      <td>uM</td>\n",
              "      <td>50.0</td>\n",
              "    </tr>\n",
              "    <tr>\n",
              "      <th>3</th>\n",
              "      <td>2676536</td>\n",
              "      <td>CHEMBL1036408</td>\n",
              "      <td>Inhibition of human recombinant DNMT1 expresse...</td>\n",
              "      <td>B</td>\n",
              "      <td>CHEMBL418052</td>\n",
              "      <td>=</td>\n",
              "      <td>nM</td>\n",
              "      <td>2000.0</td>\n",
              "      <td>CHEMBL1993</td>\n",
              "      <td>Homo sapiens</td>\n",
              "      <td>IC50</td>\n",
              "      <td>uM</td>\n",
              "      <td>2.0</td>\n",
              "    </tr>\n",
              "    <tr>\n",
              "      <th>4</th>\n",
              "      <td>2676537</td>\n",
              "      <td>CHEMBL1036408</td>\n",
              "      <td>Inhibition of human recombinant DNMT1 expresse...</td>\n",
              "      <td>B</td>\n",
              "      <td>CHEMBL563570</td>\n",
              "      <td>=</td>\n",
              "      <td>nM</td>\n",
              "      <td>300000.0</td>\n",
              "      <td>CHEMBL1993</td>\n",
              "      <td>Homo sapiens</td>\n",
              "      <td>IC50</td>\n",
              "      <td>uM</td>\n",
              "      <td>300.0</td>\n",
              "    </tr>\n",
              "    <tr>\n",
              "      <th>5</th>\n",
              "      <td>2676539</td>\n",
              "      <td>CHEMBL1036408</td>\n",
              "      <td>Inhibition of human recombinant DNMT1 expresse...</td>\n",
              "      <td>B</td>\n",
              "      <td>CHEMBL561047</td>\n",
              "      <td>=</td>\n",
              "      <td>nM</td>\n",
              "      <td>45000.0</td>\n",
              "      <td>CHEMBL1993</td>\n",
              "      <td>Homo sapiens</td>\n",
              "      <td>IC50</td>\n",
              "      <td>uM</td>\n",
              "      <td>45.0</td>\n",
              "    </tr>\n",
              "    <tr>\n",
              "      <th>6</th>\n",
              "      <td>2676540</td>\n",
              "      <td>CHEMBL1036408</td>\n",
              "      <td>Inhibition of human recombinant DNMT1 expresse...</td>\n",
              "      <td>B</td>\n",
              "      <td>CHEMBL552309</td>\n",
              "      <td>=</td>\n",
              "      <td>nM</td>\n",
              "      <td>1500.0</td>\n",
              "      <td>CHEMBL1993</td>\n",
              "      <td>Homo sapiens</td>\n",
              "      <td>IC50</td>\n",
              "      <td>uM</td>\n",
              "      <td>1.5</td>\n",
              "    </tr>\n",
              "    <tr>\n",
              "      <th>7</th>\n",
              "      <td>2676541</td>\n",
              "      <td>CHEMBL1036408</td>\n",
              "      <td>Inhibition of human recombinant DNMT1 expresse...</td>\n",
              "      <td>B</td>\n",
              "      <td>CHEMBL552246</td>\n",
              "      <td>=</td>\n",
              "      <td>nM</td>\n",
              "      <td>8000.0</td>\n",
              "      <td>CHEMBL1993</td>\n",
              "      <td>Homo sapiens</td>\n",
              "      <td>IC50</td>\n",
              "      <td>uM</td>\n",
              "      <td>8.0</td>\n",
              "    </tr>\n",
              "  </tbody>\n",
              "</table>\n",
              "</div>\n",
              "      <button class=\"colab-df-convert\" onclick=\"convertToInteractive('df-3581f78e-c565-4c35-81a4-b805c15cc65d')\"\n",
              "              title=\"Convert this dataframe to an interactive table.\"\n",
              "              style=\"display:none;\">\n",
              "        \n",
              "  <svg xmlns=\"http://www.w3.org/2000/svg\" height=\"24px\"viewBox=\"0 0 24 24\"\n",
              "       width=\"24px\">\n",
              "    <path d=\"M0 0h24v24H0V0z\" fill=\"none\"/>\n",
              "    <path d=\"M18.56 5.44l.94 2.06.94-2.06 2.06-.94-2.06-.94-.94-2.06-.94 2.06-2.06.94zm-11 1L8.5 8.5l.94-2.06 2.06-.94-2.06-.94L8.5 2.5l-.94 2.06-2.06.94zm10 10l.94 2.06.94-2.06 2.06-.94-2.06-.94-.94-2.06-.94 2.06-2.06.94z\"/><path d=\"M17.41 7.96l-1.37-1.37c-.4-.4-.92-.59-1.43-.59-.52 0-1.04.2-1.43.59L10.3 9.45l-7.72 7.72c-.78.78-.78 2.05 0 2.83L4 21.41c.39.39.9.59 1.41.59.51 0 1.02-.2 1.41-.59l7.78-7.78 2.81-2.81c.8-.78.8-2.07 0-2.86zM5.41 20L4 18.59l7.72-7.72 1.47 1.35L5.41 20z\"/>\n",
              "  </svg>\n",
              "      </button>\n",
              "      \n",
              "  <style>\n",
              "    .colab-df-container {\n",
              "      display:flex;\n",
              "      flex-wrap:wrap;\n",
              "      gap: 12px;\n",
              "    }\n",
              "\n",
              "    .colab-df-convert {\n",
              "      background-color: #E8F0FE;\n",
              "      border: none;\n",
              "      border-radius: 50%;\n",
              "      cursor: pointer;\n",
              "      display: none;\n",
              "      fill: #1967D2;\n",
              "      height: 32px;\n",
              "      padding: 0 0 0 0;\n",
              "      width: 32px;\n",
              "    }\n",
              "\n",
              "    .colab-df-convert:hover {\n",
              "      background-color: #E2EBFA;\n",
              "      box-shadow: 0px 1px 2px rgba(60, 64, 67, 0.3), 0px 1px 3px 1px rgba(60, 64, 67, 0.15);\n",
              "      fill: #174EA6;\n",
              "    }\n",
              "\n",
              "    [theme=dark] .colab-df-convert {\n",
              "      background-color: #3B4455;\n",
              "      fill: #D2E3FC;\n",
              "    }\n",
              "\n",
              "    [theme=dark] .colab-df-convert:hover {\n",
              "      background-color: #434B5C;\n",
              "      box-shadow: 0px 1px 3px 1px rgba(0, 0, 0, 0.15);\n",
              "      filter: drop-shadow(0px 1px 2px rgba(0, 0, 0, 0.3));\n",
              "      fill: #FFFFFF;\n",
              "    }\n",
              "  </style>\n",
              "\n",
              "      <script>\n",
              "        const buttonEl =\n",
              "          document.querySelector('#df-3581f78e-c565-4c35-81a4-b805c15cc65d button.colab-df-convert');\n",
              "        buttonEl.style.display =\n",
              "          google.colab.kernel.accessAllowed ? 'block' : 'none';\n",
              "\n",
              "        async function convertToInteractive(key) {\n",
              "          const element = document.querySelector('#df-3581f78e-c565-4c35-81a4-b805c15cc65d');\n",
              "          const dataTable =\n",
              "            await google.colab.kernel.invokeFunction('convertToInteractive',\n",
              "                                                     [key], {});\n",
              "          if (!dataTable) return;\n",
              "\n",
              "          const docLinkHtml = 'Like what you see? Visit the ' +\n",
              "            '<a target=\"_blank\" href=https://colab.research.google.com/notebooks/data_table.ipynb>data table notebook</a>'\n",
              "            + ' to learn more about interactive tables.';\n",
              "          element.innerHTML = '';\n",
              "          dataTable['output_type'] = 'display_data';\n",
              "          await google.colab.output.renderOutput(dataTable, element);\n",
              "          const docLink = document.createElement('div');\n",
              "          docLink.innerHTML = docLinkHtml;\n",
              "          element.appendChild(docLink);\n",
              "        }\n",
              "      </script>\n",
              "    </div>\n",
              "  </div>\n",
              "  "
            ]
          },
          "metadata": {},
          "execution_count": 15
        }
      ]
    },
    {
      "cell_type": "code",
      "source": [
        "bioactivities_df[\"units\"].unique()"
      ],
      "metadata": {
        "colab": {
          "base_uri": "https://localhost:8080/"
        },
        "id": "IMtoH6oHUxzt",
        "outputId": "8a792b79-e32a-40ce-f621-a35482306a9a"
      },
      "execution_count": null,
      "outputs": [
        {
          "output_type": "execute_result",
          "data": {
            "text/plain": [
              "array(['uM', 'nM'], dtype=object)"
            ]
          },
          "metadata": {},
          "execution_count": 16
        }
      ]
    },
    {
      "cell_type": "code",
      "source": [
        "bioactivities_df.dtypes"
      ],
      "metadata": {
        "colab": {
          "base_uri": "https://localhost:8080/"
        },
        "id": "LKGbapP6U0E9",
        "outputId": "ad0dbdb6-9c29-498f-9e62-f9b9581bbea0"
      },
      "execution_count": null,
      "outputs": [
        {
          "output_type": "execute_result",
          "data": {
            "text/plain": [
              "activity_id            int64\n",
              "assay_chembl_id       object\n",
              "assay_description     object\n",
              "assay_type            object\n",
              "molecule_chembl_id    object\n",
              "relation              object\n",
              "standard_units        object\n",
              "standard_value        object\n",
              "target_chembl_id      object\n",
              "target_organism       object\n",
              "type                  object\n",
              "units                 object\n",
              "value                 object\n",
              "dtype: object"
            ]
          },
          "metadata": {},
          "execution_count": 17
        }
      ]
    },
    {
      "cell_type": "code",
      "source": [
        "bioactivities_df = bioactivities_df.astype({\"standard_value\": \"float64\"})\n",
        "bioactivities_df.dtypes"
      ],
      "metadata": {
        "colab": {
          "base_uri": "https://localhost:8080/"
        },
        "id": "88I9_lrjU7X9",
        "outputId": "0ee20efc-d205-49b6-aba8-10b92b3b1835"
      },
      "execution_count": null,
      "outputs": [
        {
          "output_type": "execute_result",
          "data": {
            "text/plain": [
              "activity_id             int64\n",
              "assay_chembl_id        object\n",
              "assay_description      object\n",
              "assay_type             object\n",
              "molecule_chembl_id     object\n",
              "relation               object\n",
              "standard_units         object\n",
              "standard_value        float64\n",
              "target_chembl_id       object\n",
              "target_organism        object\n",
              "type                   object\n",
              "units                  object\n",
              "value                  object\n",
              "dtype: object"
            ]
          },
          "metadata": {},
          "execution_count": 18
        }
      ]
    },
    {
      "cell_type": "code",
      "source": [
        "bioactivities_df.dropna(axis=0, how=\"any\", inplace=True)\n",
        "print(f\"DataFrame shape: {bioactivities_df.shape}\")"
      ],
      "metadata": {
        "colab": {
          "base_uri": "https://localhost:8080/"
        },
        "id": "C3Z7wPYgVCAV",
        "outputId": "a01537e1-157e-49e3-e2c6-40e3607bf607"
      },
      "execution_count": null,
      "outputs": [
        {
          "output_type": "stream",
          "name": "stdout",
          "text": [
            "DataFrame shape: (234, 13)\n"
          ]
        }
      ]
    },
    {
      "cell_type": "code",
      "source": [
        "print(f\"Units in downloaded data: {bioactivities_df['standard_units'].unique()}\")\n",
        "print(\n",
        "    f\"Number of non-nM entries:\\\n",
        "    {bioactivities_df[bioactivities_df['standard_units'] != 'nM'].shape[0]}\"\n",
        ")"
      ],
      "metadata": {
        "colab": {
          "base_uri": "https://localhost:8080/"
        },
        "id": "evqisHXPVEX1",
        "outputId": "fcfcf2d8-c27a-4dbd-d2d5-c1790469f26a"
      },
      "execution_count": null,
      "outputs": [
        {
          "output_type": "stream",
          "name": "stdout",
          "text": [
            "Units in downloaded data: ['nM']\n",
            "Number of non-nM entries:    0\n"
          ]
        }
      ]
    },
    {
      "cell_type": "code",
      "source": [
        "bioactivities_df = bioactivities_df[bioactivities_df[\"standard_units\"] == \"nM\"]\n",
        "print(f\"Units after filtering: {bioactivities_df['standard_units'].unique()}\")"
      ],
      "metadata": {
        "colab": {
          "base_uri": "https://localhost:8080/"
        },
        "id": "C2l9ciNGVR2F",
        "outputId": "410a9d12-0060-4dae-8ea2-0a4b333e3007"
      },
      "execution_count": null,
      "outputs": [
        {
          "output_type": "stream",
          "name": "stdout",
          "text": [
            "Units after filtering: ['nM']\n"
          ]
        }
      ]
    },
    {
      "cell_type": "code",
      "source": [
        "print(f\"DataFrame shape: {bioactivities_df.shape}\")"
      ],
      "metadata": {
        "colab": {
          "base_uri": "https://localhost:8080/"
        },
        "id": "SJBnheVFVUj9",
        "outputId": "d4085eaa-7bd2-4020-c12c-4c246d12008f"
      },
      "execution_count": null,
      "outputs": [
        {
          "output_type": "stream",
          "name": "stdout",
          "text": [
            "DataFrame shape: (234, 13)\n"
          ]
        }
      ]
    },
    {
      "cell_type": "code",
      "source": [
        "bioactivities_df.drop_duplicates(\"molecule_chembl_id\", keep=\"first\", inplace=True)\n",
        "print(f\"DataFrame shape: {bioactivities_df.shape}\")"
      ],
      "metadata": {
        "colab": {
          "base_uri": "https://localhost:8080/"
        },
        "id": "eE9MLG41VWzN",
        "outputId": "e6449fe1-a8dc-4043-bdad-9a8e8bc46f5f"
      },
      "execution_count": null,
      "outputs": [
        {
          "output_type": "stream",
          "name": "stdout",
          "text": [
            "DataFrame shape: (196, 13)\n"
          ]
        }
      ]
    },
    {
      "cell_type": "code",
      "source": [
        "bioactivities_df.reset_index(drop=True, inplace=True)\n",
        "bioactivities_df.head(8)"
      ],
      "metadata": {
        "colab": {
          "base_uri": "https://localhost:8080/",
          "height": 300
        },
        "id": "wAcTkOsAVZPu",
        "outputId": "3ed43dcb-d00b-42e2-c1c0-1459cade1c23"
      },
      "execution_count": null,
      "outputs": [
        {
          "output_type": "execute_result",
          "data": {
            "text/plain": [
              "   activity_id assay_chembl_id  \\\n",
              "0      1671884    CHEMBL862798   \n",
              "1      1671886    CHEMBL862798   \n",
              "2      2676536   CHEMBL1036408   \n",
              "3      2676537   CHEMBL1036408   \n",
              "4      2676539   CHEMBL1036408   \n",
              "5      2676540   CHEMBL1036408   \n",
              "6      2676541   CHEMBL1036408   \n",
              "7      2676542   CHEMBL1036408   \n",
              "\n",
              "                                   assay_description assay_type  \\\n",
              "0  Inhibitory activity against DNA methyl transfe...          B   \n",
              "1  Inhibitory activity against DNA methyl transfe...          B   \n",
              "2  Inhibition of human recombinant DNMT1 expresse...          B   \n",
              "3  Inhibition of human recombinant DNMT1 expresse...          B   \n",
              "4  Inhibition of human recombinant DNMT1 expresse...          B   \n",
              "5  Inhibition of human recombinant DNMT1 expresse...          B   \n",
              "6  Inhibition of human recombinant DNMT1 expresse...          B   \n",
              "7  Inhibition of human recombinant DNMT1 expresse...          B   \n",
              "\n",
              "  molecule_chembl_id relation standard_units  standard_value target_chembl_id  \\\n",
              "0       CHEMBL382617        =             nM        100000.0       CHEMBL1993   \n",
              "1       CHEMBL383475        =             nM         50000.0       CHEMBL1993   \n",
              "2       CHEMBL418052        =             nM          2000.0       CHEMBL1993   \n",
              "3       CHEMBL563570        =             nM        300000.0       CHEMBL1993   \n",
              "4       CHEMBL561047        =             nM         45000.0       CHEMBL1993   \n",
              "5       CHEMBL552309        =             nM          1500.0       CHEMBL1993   \n",
              "6       CHEMBL552246        =             nM          8000.0       CHEMBL1993   \n",
              "7       CHEMBL563946        =             nM         45000.0       CHEMBL1993   \n",
              "\n",
              "  target_organism  type units  value  \n",
              "0    Homo sapiens  IC50    uM  100.0  \n",
              "1    Homo sapiens  IC50    uM   50.0  \n",
              "2    Homo sapiens  IC50    uM    2.0  \n",
              "3    Homo sapiens  IC50    uM  300.0  \n",
              "4    Homo sapiens  IC50    uM   45.0  \n",
              "5    Homo sapiens  IC50    uM    1.5  \n",
              "6    Homo sapiens  IC50    uM    8.0  \n",
              "7    Homo sapiens  IC50    uM   45.0  "
            ],
            "text/html": [
              "\n",
              "  <div id=\"df-84a6d1d6-d3e9-4b22-9f3b-c3f692783946\">\n",
              "    <div class=\"colab-df-container\">\n",
              "      <div>\n",
              "<style scoped>\n",
              "    .dataframe tbody tr th:only-of-type {\n",
              "        vertical-align: middle;\n",
              "    }\n",
              "\n",
              "    .dataframe tbody tr th {\n",
              "        vertical-align: top;\n",
              "    }\n",
              "\n",
              "    .dataframe thead th {\n",
              "        text-align: right;\n",
              "    }\n",
              "</style>\n",
              "<table border=\"1\" class=\"dataframe\">\n",
              "  <thead>\n",
              "    <tr style=\"text-align: right;\">\n",
              "      <th></th>\n",
              "      <th>activity_id</th>\n",
              "      <th>assay_chembl_id</th>\n",
              "      <th>assay_description</th>\n",
              "      <th>assay_type</th>\n",
              "      <th>molecule_chembl_id</th>\n",
              "      <th>relation</th>\n",
              "      <th>standard_units</th>\n",
              "      <th>standard_value</th>\n",
              "      <th>target_chembl_id</th>\n",
              "      <th>target_organism</th>\n",
              "      <th>type</th>\n",
              "      <th>units</th>\n",
              "      <th>value</th>\n",
              "    </tr>\n",
              "  </thead>\n",
              "  <tbody>\n",
              "    <tr>\n",
              "      <th>0</th>\n",
              "      <td>1671884</td>\n",
              "      <td>CHEMBL862798</td>\n",
              "      <td>Inhibitory activity against DNA methyl transfe...</td>\n",
              "      <td>B</td>\n",
              "      <td>CHEMBL382617</td>\n",
              "      <td>=</td>\n",
              "      <td>nM</td>\n",
              "      <td>100000.0</td>\n",
              "      <td>CHEMBL1993</td>\n",
              "      <td>Homo sapiens</td>\n",
              "      <td>IC50</td>\n",
              "      <td>uM</td>\n",
              "      <td>100.0</td>\n",
              "    </tr>\n",
              "    <tr>\n",
              "      <th>1</th>\n",
              "      <td>1671886</td>\n",
              "      <td>CHEMBL862798</td>\n",
              "      <td>Inhibitory activity against DNA methyl transfe...</td>\n",
              "      <td>B</td>\n",
              "      <td>CHEMBL383475</td>\n",
              "      <td>=</td>\n",
              "      <td>nM</td>\n",
              "      <td>50000.0</td>\n",
              "      <td>CHEMBL1993</td>\n",
              "      <td>Homo sapiens</td>\n",
              "      <td>IC50</td>\n",
              "      <td>uM</td>\n",
              "      <td>50.0</td>\n",
              "    </tr>\n",
              "    <tr>\n",
              "      <th>2</th>\n",
              "      <td>2676536</td>\n",
              "      <td>CHEMBL1036408</td>\n",
              "      <td>Inhibition of human recombinant DNMT1 expresse...</td>\n",
              "      <td>B</td>\n",
              "      <td>CHEMBL418052</td>\n",
              "      <td>=</td>\n",
              "      <td>nM</td>\n",
              "      <td>2000.0</td>\n",
              "      <td>CHEMBL1993</td>\n",
              "      <td>Homo sapiens</td>\n",
              "      <td>IC50</td>\n",
              "      <td>uM</td>\n",
              "      <td>2.0</td>\n",
              "    </tr>\n",
              "    <tr>\n",
              "      <th>3</th>\n",
              "      <td>2676537</td>\n",
              "      <td>CHEMBL1036408</td>\n",
              "      <td>Inhibition of human recombinant DNMT1 expresse...</td>\n",
              "      <td>B</td>\n",
              "      <td>CHEMBL563570</td>\n",
              "      <td>=</td>\n",
              "      <td>nM</td>\n",
              "      <td>300000.0</td>\n",
              "      <td>CHEMBL1993</td>\n",
              "      <td>Homo sapiens</td>\n",
              "      <td>IC50</td>\n",
              "      <td>uM</td>\n",
              "      <td>300.0</td>\n",
              "    </tr>\n",
              "    <tr>\n",
              "      <th>4</th>\n",
              "      <td>2676539</td>\n",
              "      <td>CHEMBL1036408</td>\n",
              "      <td>Inhibition of human recombinant DNMT1 expresse...</td>\n",
              "      <td>B</td>\n",
              "      <td>CHEMBL561047</td>\n",
              "      <td>=</td>\n",
              "      <td>nM</td>\n",
              "      <td>45000.0</td>\n",
              "      <td>CHEMBL1993</td>\n",
              "      <td>Homo sapiens</td>\n",
              "      <td>IC50</td>\n",
              "      <td>uM</td>\n",
              "      <td>45.0</td>\n",
              "    </tr>\n",
              "    <tr>\n",
              "      <th>5</th>\n",
              "      <td>2676540</td>\n",
              "      <td>CHEMBL1036408</td>\n",
              "      <td>Inhibition of human recombinant DNMT1 expresse...</td>\n",
              "      <td>B</td>\n",
              "      <td>CHEMBL552309</td>\n",
              "      <td>=</td>\n",
              "      <td>nM</td>\n",
              "      <td>1500.0</td>\n",
              "      <td>CHEMBL1993</td>\n",
              "      <td>Homo sapiens</td>\n",
              "      <td>IC50</td>\n",
              "      <td>uM</td>\n",
              "      <td>1.5</td>\n",
              "    </tr>\n",
              "    <tr>\n",
              "      <th>6</th>\n",
              "      <td>2676541</td>\n",
              "      <td>CHEMBL1036408</td>\n",
              "      <td>Inhibition of human recombinant DNMT1 expresse...</td>\n",
              "      <td>B</td>\n",
              "      <td>CHEMBL552246</td>\n",
              "      <td>=</td>\n",
              "      <td>nM</td>\n",
              "      <td>8000.0</td>\n",
              "      <td>CHEMBL1993</td>\n",
              "      <td>Homo sapiens</td>\n",
              "      <td>IC50</td>\n",
              "      <td>uM</td>\n",
              "      <td>8.0</td>\n",
              "    </tr>\n",
              "    <tr>\n",
              "      <th>7</th>\n",
              "      <td>2676542</td>\n",
              "      <td>CHEMBL1036408</td>\n",
              "      <td>Inhibition of human recombinant DNMT1 expresse...</td>\n",
              "      <td>B</td>\n",
              "      <td>CHEMBL563946</td>\n",
              "      <td>=</td>\n",
              "      <td>nM</td>\n",
              "      <td>45000.0</td>\n",
              "      <td>CHEMBL1993</td>\n",
              "      <td>Homo sapiens</td>\n",
              "      <td>IC50</td>\n",
              "      <td>uM</td>\n",
              "      <td>45.0</td>\n",
              "    </tr>\n",
              "  </tbody>\n",
              "</table>\n",
              "</div>\n",
              "      <button class=\"colab-df-convert\" onclick=\"convertToInteractive('df-84a6d1d6-d3e9-4b22-9f3b-c3f692783946')\"\n",
              "              title=\"Convert this dataframe to an interactive table.\"\n",
              "              style=\"display:none;\">\n",
              "        \n",
              "  <svg xmlns=\"http://www.w3.org/2000/svg\" height=\"24px\"viewBox=\"0 0 24 24\"\n",
              "       width=\"24px\">\n",
              "    <path d=\"M0 0h24v24H0V0z\" fill=\"none\"/>\n",
              "    <path d=\"M18.56 5.44l.94 2.06.94-2.06 2.06-.94-2.06-.94-.94-2.06-.94 2.06-2.06.94zm-11 1L8.5 8.5l.94-2.06 2.06-.94-2.06-.94L8.5 2.5l-.94 2.06-2.06.94zm10 10l.94 2.06.94-2.06 2.06-.94-2.06-.94-.94-2.06-.94 2.06-2.06.94z\"/><path d=\"M17.41 7.96l-1.37-1.37c-.4-.4-.92-.59-1.43-.59-.52 0-1.04.2-1.43.59L10.3 9.45l-7.72 7.72c-.78.78-.78 2.05 0 2.83L4 21.41c.39.39.9.59 1.41.59.51 0 1.02-.2 1.41-.59l7.78-7.78 2.81-2.81c.8-.78.8-2.07 0-2.86zM5.41 20L4 18.59l7.72-7.72 1.47 1.35L5.41 20z\"/>\n",
              "  </svg>\n",
              "      </button>\n",
              "      \n",
              "  <style>\n",
              "    .colab-df-container {\n",
              "      display:flex;\n",
              "      flex-wrap:wrap;\n",
              "      gap: 12px;\n",
              "    }\n",
              "\n",
              "    .colab-df-convert {\n",
              "      background-color: #E8F0FE;\n",
              "      border: none;\n",
              "      border-radius: 50%;\n",
              "      cursor: pointer;\n",
              "      display: none;\n",
              "      fill: #1967D2;\n",
              "      height: 32px;\n",
              "      padding: 0 0 0 0;\n",
              "      width: 32px;\n",
              "    }\n",
              "\n",
              "    .colab-df-convert:hover {\n",
              "      background-color: #E2EBFA;\n",
              "      box-shadow: 0px 1px 2px rgba(60, 64, 67, 0.3), 0px 1px 3px 1px rgba(60, 64, 67, 0.15);\n",
              "      fill: #174EA6;\n",
              "    }\n",
              "\n",
              "    [theme=dark] .colab-df-convert {\n",
              "      background-color: #3B4455;\n",
              "      fill: #D2E3FC;\n",
              "    }\n",
              "\n",
              "    [theme=dark] .colab-df-convert:hover {\n",
              "      background-color: #434B5C;\n",
              "      box-shadow: 0px 1px 3px 1px rgba(0, 0, 0, 0.15);\n",
              "      filter: drop-shadow(0px 1px 2px rgba(0, 0, 0, 0.3));\n",
              "      fill: #FFFFFF;\n",
              "    }\n",
              "  </style>\n",
              "\n",
              "      <script>\n",
              "        const buttonEl =\n",
              "          document.querySelector('#df-84a6d1d6-d3e9-4b22-9f3b-c3f692783946 button.colab-df-convert');\n",
              "        buttonEl.style.display =\n",
              "          google.colab.kernel.accessAllowed ? 'block' : 'none';\n",
              "\n",
              "        async function convertToInteractive(key) {\n",
              "          const element = document.querySelector('#df-84a6d1d6-d3e9-4b22-9f3b-c3f692783946');\n",
              "          const dataTable =\n",
              "            await google.colab.kernel.invokeFunction('convertToInteractive',\n",
              "                                                     [key], {});\n",
              "          if (!dataTable) return;\n",
              "\n",
              "          const docLinkHtml = 'Like what you see? Visit the ' +\n",
              "            '<a target=\"_blank\" href=https://colab.research.google.com/notebooks/data_table.ipynb>data table notebook</a>'\n",
              "            + ' to learn more about interactive tables.';\n",
              "          element.innerHTML = '';\n",
              "          dataTable['output_type'] = 'display_data';\n",
              "          await google.colab.output.renderOutput(dataTable, element);\n",
              "          const docLink = document.createElement('div');\n",
              "          docLink.innerHTML = docLinkHtml;\n",
              "          element.appendChild(docLink);\n",
              "        }\n",
              "      </script>\n",
              "    </div>\n",
              "  </div>\n",
              "  "
            ]
          },
          "metadata": {},
          "execution_count": 24
        }
      ]
    },
    {
      "cell_type": "code",
      "source": [
        "bioactivities_df.rename(\n",
        "    columns={\"standard_value\": \"IC50\", \"standard_units\": \"units\"}, inplace=True\n",
        ")\n",
        "bioactivities_df.head(8)"
      ],
      "metadata": {
        "colab": {
          "base_uri": "https://localhost:8080/",
          "height": 300
        },
        "id": "HYDhgVvFVcjV",
        "outputId": "1f2dd03e-92ed-4c7c-9647-726b86c01560"
      },
      "execution_count": null,
      "outputs": [
        {
          "output_type": "execute_result",
          "data": {
            "text/plain": [
              "   activity_id assay_chembl_id  \\\n",
              "0      1671884    CHEMBL862798   \n",
              "1      1671886    CHEMBL862798   \n",
              "2      2676536   CHEMBL1036408   \n",
              "3      2676537   CHEMBL1036408   \n",
              "4      2676539   CHEMBL1036408   \n",
              "5      2676540   CHEMBL1036408   \n",
              "6      2676541   CHEMBL1036408   \n",
              "7      2676542   CHEMBL1036408   \n",
              "\n",
              "                                   assay_description assay_type  \\\n",
              "0  Inhibitory activity against DNA methyl transfe...          B   \n",
              "1  Inhibitory activity against DNA methyl transfe...          B   \n",
              "2  Inhibition of human recombinant DNMT1 expresse...          B   \n",
              "3  Inhibition of human recombinant DNMT1 expresse...          B   \n",
              "4  Inhibition of human recombinant DNMT1 expresse...          B   \n",
              "5  Inhibition of human recombinant DNMT1 expresse...          B   \n",
              "6  Inhibition of human recombinant DNMT1 expresse...          B   \n",
              "7  Inhibition of human recombinant DNMT1 expresse...          B   \n",
              "\n",
              "  molecule_chembl_id relation units      IC50 target_chembl_id  \\\n",
              "0       CHEMBL382617        =    nM  100000.0       CHEMBL1993   \n",
              "1       CHEMBL383475        =    nM   50000.0       CHEMBL1993   \n",
              "2       CHEMBL418052        =    nM    2000.0       CHEMBL1993   \n",
              "3       CHEMBL563570        =    nM  300000.0       CHEMBL1993   \n",
              "4       CHEMBL561047        =    nM   45000.0       CHEMBL1993   \n",
              "5       CHEMBL552309        =    nM    1500.0       CHEMBL1993   \n",
              "6       CHEMBL552246        =    nM    8000.0       CHEMBL1993   \n",
              "7       CHEMBL563946        =    nM   45000.0       CHEMBL1993   \n",
              "\n",
              "  target_organism  type units  value  \n",
              "0    Homo sapiens  IC50    uM  100.0  \n",
              "1    Homo sapiens  IC50    uM   50.0  \n",
              "2    Homo sapiens  IC50    uM    2.0  \n",
              "3    Homo sapiens  IC50    uM  300.0  \n",
              "4    Homo sapiens  IC50    uM   45.0  \n",
              "5    Homo sapiens  IC50    uM    1.5  \n",
              "6    Homo sapiens  IC50    uM    8.0  \n",
              "7    Homo sapiens  IC50    uM   45.0  "
            ],
            "text/html": [
              "\n",
              "  <div id=\"df-2a40fe1b-2586-4198-99c5-d6c2badf9dca\">\n",
              "    <div class=\"colab-df-container\">\n",
              "      <div>\n",
              "<style scoped>\n",
              "    .dataframe tbody tr th:only-of-type {\n",
              "        vertical-align: middle;\n",
              "    }\n",
              "\n",
              "    .dataframe tbody tr th {\n",
              "        vertical-align: top;\n",
              "    }\n",
              "\n",
              "    .dataframe thead th {\n",
              "        text-align: right;\n",
              "    }\n",
              "</style>\n",
              "<table border=\"1\" class=\"dataframe\">\n",
              "  <thead>\n",
              "    <tr style=\"text-align: right;\">\n",
              "      <th></th>\n",
              "      <th>activity_id</th>\n",
              "      <th>assay_chembl_id</th>\n",
              "      <th>assay_description</th>\n",
              "      <th>assay_type</th>\n",
              "      <th>molecule_chembl_id</th>\n",
              "      <th>relation</th>\n",
              "      <th>units</th>\n",
              "      <th>IC50</th>\n",
              "      <th>target_chembl_id</th>\n",
              "      <th>target_organism</th>\n",
              "      <th>type</th>\n",
              "      <th>units</th>\n",
              "      <th>value</th>\n",
              "    </tr>\n",
              "  </thead>\n",
              "  <tbody>\n",
              "    <tr>\n",
              "      <th>0</th>\n",
              "      <td>1671884</td>\n",
              "      <td>CHEMBL862798</td>\n",
              "      <td>Inhibitory activity against DNA methyl transfe...</td>\n",
              "      <td>B</td>\n",
              "      <td>CHEMBL382617</td>\n",
              "      <td>=</td>\n",
              "      <td>nM</td>\n",
              "      <td>100000.0</td>\n",
              "      <td>CHEMBL1993</td>\n",
              "      <td>Homo sapiens</td>\n",
              "      <td>IC50</td>\n",
              "      <td>uM</td>\n",
              "      <td>100.0</td>\n",
              "    </tr>\n",
              "    <tr>\n",
              "      <th>1</th>\n",
              "      <td>1671886</td>\n",
              "      <td>CHEMBL862798</td>\n",
              "      <td>Inhibitory activity against DNA methyl transfe...</td>\n",
              "      <td>B</td>\n",
              "      <td>CHEMBL383475</td>\n",
              "      <td>=</td>\n",
              "      <td>nM</td>\n",
              "      <td>50000.0</td>\n",
              "      <td>CHEMBL1993</td>\n",
              "      <td>Homo sapiens</td>\n",
              "      <td>IC50</td>\n",
              "      <td>uM</td>\n",
              "      <td>50.0</td>\n",
              "    </tr>\n",
              "    <tr>\n",
              "      <th>2</th>\n",
              "      <td>2676536</td>\n",
              "      <td>CHEMBL1036408</td>\n",
              "      <td>Inhibition of human recombinant DNMT1 expresse...</td>\n",
              "      <td>B</td>\n",
              "      <td>CHEMBL418052</td>\n",
              "      <td>=</td>\n",
              "      <td>nM</td>\n",
              "      <td>2000.0</td>\n",
              "      <td>CHEMBL1993</td>\n",
              "      <td>Homo sapiens</td>\n",
              "      <td>IC50</td>\n",
              "      <td>uM</td>\n",
              "      <td>2.0</td>\n",
              "    </tr>\n",
              "    <tr>\n",
              "      <th>3</th>\n",
              "      <td>2676537</td>\n",
              "      <td>CHEMBL1036408</td>\n",
              "      <td>Inhibition of human recombinant DNMT1 expresse...</td>\n",
              "      <td>B</td>\n",
              "      <td>CHEMBL563570</td>\n",
              "      <td>=</td>\n",
              "      <td>nM</td>\n",
              "      <td>300000.0</td>\n",
              "      <td>CHEMBL1993</td>\n",
              "      <td>Homo sapiens</td>\n",
              "      <td>IC50</td>\n",
              "      <td>uM</td>\n",
              "      <td>300.0</td>\n",
              "    </tr>\n",
              "    <tr>\n",
              "      <th>4</th>\n",
              "      <td>2676539</td>\n",
              "      <td>CHEMBL1036408</td>\n",
              "      <td>Inhibition of human recombinant DNMT1 expresse...</td>\n",
              "      <td>B</td>\n",
              "      <td>CHEMBL561047</td>\n",
              "      <td>=</td>\n",
              "      <td>nM</td>\n",
              "      <td>45000.0</td>\n",
              "      <td>CHEMBL1993</td>\n",
              "      <td>Homo sapiens</td>\n",
              "      <td>IC50</td>\n",
              "      <td>uM</td>\n",
              "      <td>45.0</td>\n",
              "    </tr>\n",
              "    <tr>\n",
              "      <th>5</th>\n",
              "      <td>2676540</td>\n",
              "      <td>CHEMBL1036408</td>\n",
              "      <td>Inhibition of human recombinant DNMT1 expresse...</td>\n",
              "      <td>B</td>\n",
              "      <td>CHEMBL552309</td>\n",
              "      <td>=</td>\n",
              "      <td>nM</td>\n",
              "      <td>1500.0</td>\n",
              "      <td>CHEMBL1993</td>\n",
              "      <td>Homo sapiens</td>\n",
              "      <td>IC50</td>\n",
              "      <td>uM</td>\n",
              "      <td>1.5</td>\n",
              "    </tr>\n",
              "    <tr>\n",
              "      <th>6</th>\n",
              "      <td>2676541</td>\n",
              "      <td>CHEMBL1036408</td>\n",
              "      <td>Inhibition of human recombinant DNMT1 expresse...</td>\n",
              "      <td>B</td>\n",
              "      <td>CHEMBL552246</td>\n",
              "      <td>=</td>\n",
              "      <td>nM</td>\n",
              "      <td>8000.0</td>\n",
              "      <td>CHEMBL1993</td>\n",
              "      <td>Homo sapiens</td>\n",
              "      <td>IC50</td>\n",
              "      <td>uM</td>\n",
              "      <td>8.0</td>\n",
              "    </tr>\n",
              "    <tr>\n",
              "      <th>7</th>\n",
              "      <td>2676542</td>\n",
              "      <td>CHEMBL1036408</td>\n",
              "      <td>Inhibition of human recombinant DNMT1 expresse...</td>\n",
              "      <td>B</td>\n",
              "      <td>CHEMBL563946</td>\n",
              "      <td>=</td>\n",
              "      <td>nM</td>\n",
              "      <td>45000.0</td>\n",
              "      <td>CHEMBL1993</td>\n",
              "      <td>Homo sapiens</td>\n",
              "      <td>IC50</td>\n",
              "      <td>uM</td>\n",
              "      <td>45.0</td>\n",
              "    </tr>\n",
              "  </tbody>\n",
              "</table>\n",
              "</div>\n",
              "      <button class=\"colab-df-convert\" onclick=\"convertToInteractive('df-2a40fe1b-2586-4198-99c5-d6c2badf9dca')\"\n",
              "              title=\"Convert this dataframe to an interactive table.\"\n",
              "              style=\"display:none;\">\n",
              "        \n",
              "  <svg xmlns=\"http://www.w3.org/2000/svg\" height=\"24px\"viewBox=\"0 0 24 24\"\n",
              "       width=\"24px\">\n",
              "    <path d=\"M0 0h24v24H0V0z\" fill=\"none\"/>\n",
              "    <path d=\"M18.56 5.44l.94 2.06.94-2.06 2.06-.94-2.06-.94-.94-2.06-.94 2.06-2.06.94zm-11 1L8.5 8.5l.94-2.06 2.06-.94-2.06-.94L8.5 2.5l-.94 2.06-2.06.94zm10 10l.94 2.06.94-2.06 2.06-.94-2.06-.94-.94-2.06-.94 2.06-2.06.94z\"/><path d=\"M17.41 7.96l-1.37-1.37c-.4-.4-.92-.59-1.43-.59-.52 0-1.04.2-1.43.59L10.3 9.45l-7.72 7.72c-.78.78-.78 2.05 0 2.83L4 21.41c.39.39.9.59 1.41.59.51 0 1.02-.2 1.41-.59l7.78-7.78 2.81-2.81c.8-.78.8-2.07 0-2.86zM5.41 20L4 18.59l7.72-7.72 1.47 1.35L5.41 20z\"/>\n",
              "  </svg>\n",
              "      </button>\n",
              "      \n",
              "  <style>\n",
              "    .colab-df-container {\n",
              "      display:flex;\n",
              "      flex-wrap:wrap;\n",
              "      gap: 12px;\n",
              "    }\n",
              "\n",
              "    .colab-df-convert {\n",
              "      background-color: #E8F0FE;\n",
              "      border: none;\n",
              "      border-radius: 50%;\n",
              "      cursor: pointer;\n",
              "      display: none;\n",
              "      fill: #1967D2;\n",
              "      height: 32px;\n",
              "      padding: 0 0 0 0;\n",
              "      width: 32px;\n",
              "    }\n",
              "\n",
              "    .colab-df-convert:hover {\n",
              "      background-color: #E2EBFA;\n",
              "      box-shadow: 0px 1px 2px rgba(60, 64, 67, 0.3), 0px 1px 3px 1px rgba(60, 64, 67, 0.15);\n",
              "      fill: #174EA6;\n",
              "    }\n",
              "\n",
              "    [theme=dark] .colab-df-convert {\n",
              "      background-color: #3B4455;\n",
              "      fill: #D2E3FC;\n",
              "    }\n",
              "\n",
              "    [theme=dark] .colab-df-convert:hover {\n",
              "      background-color: #434B5C;\n",
              "      box-shadow: 0px 1px 3px 1px rgba(0, 0, 0, 0.15);\n",
              "      filter: drop-shadow(0px 1px 2px rgba(0, 0, 0, 0.3));\n",
              "      fill: #FFFFFF;\n",
              "    }\n",
              "  </style>\n",
              "\n",
              "      <script>\n",
              "        const buttonEl =\n",
              "          document.querySelector('#df-2a40fe1b-2586-4198-99c5-d6c2badf9dca button.colab-df-convert');\n",
              "        buttonEl.style.display =\n",
              "          google.colab.kernel.accessAllowed ? 'block' : 'none';\n",
              "\n",
              "        async function convertToInteractive(key) {\n",
              "          const element = document.querySelector('#df-2a40fe1b-2586-4198-99c5-d6c2badf9dca');\n",
              "          const dataTable =\n",
              "            await google.colab.kernel.invokeFunction('convertToInteractive',\n",
              "                                                     [key], {});\n",
              "          if (!dataTable) return;\n",
              "\n",
              "          const docLinkHtml = 'Like what you see? Visit the ' +\n",
              "            '<a target=\"_blank\" href=https://colab.research.google.com/notebooks/data_table.ipynb>data table notebook</a>'\n",
              "            + ' to learn more about interactive tables.';\n",
              "          element.innerHTML = '';\n",
              "          dataTable['output_type'] = 'display_data';\n",
              "          await google.colab.output.renderOutput(dataTable, element);\n",
              "          const docLink = document.createElement('div');\n",
              "          docLink.innerHTML = docLinkHtml;\n",
              "          element.appendChild(docLink);\n",
              "        }\n",
              "      </script>\n",
              "    </div>\n",
              "  </div>\n",
              "  "
            ]
          },
          "metadata": {},
          "execution_count": 25
        }
      ]
    },
    {
      "cell_type": "code",
      "source": [
        "print(f\"Bioactivities filtered: {bioactivities_df.shape[0]}\")\n",
        "bioactivities_df.columns"
      ],
      "metadata": {
        "colab": {
          "base_uri": "https://localhost:8080/"
        },
        "id": "92P-rlVtViXt",
        "outputId": "b61390c5-149e-4a62-daa8-bca0620c0f42"
      },
      "execution_count": null,
      "outputs": [
        {
          "output_type": "stream",
          "name": "stdout",
          "text": [
            "Bioactivities filtered: 196\n"
          ]
        },
        {
          "output_type": "execute_result",
          "data": {
            "text/plain": [
              "Index(['activity_id', 'assay_chembl_id', 'assay_description', 'assay_type',\n",
              "       'molecule_chembl_id', 'relation', 'units', 'IC50', 'target_chembl_id',\n",
              "       'target_organism', 'type', 'units', 'value'],\n",
              "      dtype='object')"
            ]
          },
          "metadata": {},
          "execution_count": 26
        }
      ]
    },
    {
      "cell_type": "code",
      "source": [
        "compounds_provider = compounds_api.filter(molecule_chembl_id__in=list(bioactivities_df[\"molecule_chembl_id\"])).only(\"molecule_chembl_id\", \"molecule_structures\")"
      ],
      "metadata": {
        "id": "UhB2oi_jVmBd"
      },
      "execution_count": null,
      "outputs": []
    },
    {
      "cell_type": "code",
      "source": [
        "compounds = list(tqdm(compounds_provider))"
      ],
      "metadata": {
        "colab": {
          "base_uri": "https://localhost:8080/",
          "height": 49,
          "referenced_widgets": [
            "0ad0f88478c041b59a7030ba549e4c41",
            "548f902e7816400bb2274ce0e286c996",
            "9dbd03af90d44f2d9a7953bc24ed6633",
            "3e073c9811cc42d9af50bb3531af6d19",
            "f4a5e1fe2419405a883cb792a874c595",
            "7c4549e7a2be4897989526dd50bad6b1",
            "1bda687a1bec40258439a30ecde515bc",
            "eb2c32028fdc4dfca94db3e872dc815e",
            "c59b877b5013441abac3f83df0bb4f10",
            "7c655de72cca463185e17a919e9781f0",
            "dbec797e200742dcaa715f9df34955b8"
          ]
        },
        "id": "rAV6auvTVpZO",
        "outputId": "c5f98127-0d27-449b-cdab-be0a542aa802"
      },
      "execution_count": null,
      "outputs": [
        {
          "output_type": "display_data",
          "data": {
            "text/plain": [
              "  0%|          | 0/196 [00:00<?, ?it/s]"
            ],
            "application/vnd.jupyter.widget-view+json": {
              "version_major": 2,
              "version_minor": 0,
              "model_id": "0ad0f88478c041b59a7030ba549e4c41"
            }
          },
          "metadata": {}
        }
      ]
    },
    {
      "cell_type": "code",
      "source": [
        "compounds_df = pd.DataFrame.from_records(compounds)\n",
        "print(f\"DataFrame shape: {compounds_df.shape}\")"
      ],
      "metadata": {
        "colab": {
          "base_uri": "https://localhost:8080/"
        },
        "id": "HiCfRWVyVsS8",
        "outputId": "c9863799-b11e-4179-fb4f-da54ef23c4d1"
      },
      "execution_count": null,
      "outputs": [
        {
          "output_type": "stream",
          "name": "stdout",
          "text": [
            "DataFrame shape: (196, 2)\n"
          ]
        }
      ]
    },
    {
      "cell_type": "code",
      "source": [
        "compounds_df.head(8)"
      ],
      "metadata": {
        "colab": {
          "base_uri": "https://localhost:8080/",
          "height": 300
        },
        "id": "F4JAY-JEVuXk",
        "outputId": "1dab2b3c-41e6-408d-b49e-962bef4ed83c"
      },
      "execution_count": null,
      "outputs": [
        {
          "output_type": "execute_result",
          "data": {
            "text/plain": [
              "  molecule_chembl_id                                molecule_structures\n",
              "0           CHEMBL44  {'canonical_smiles': 'O=c1c(-c2ccc(O)cc2)coc2c...\n",
              "1       CHEMBL418052  {'canonical_smiles': 'Nc1ncnc2c1ncn2[C@@H]1O[C...\n",
              "2       CHEMBL297453  {'canonical_smiles': 'O=C(O[C@@H]1Cc2c(O)cc(O)...\n",
              "3        CHEMBL83747  {'canonical_smiles': 'O=C(NCCSSCCNC(=O)/C(Cc1c...\n",
              "4       CHEMBL318782  {'canonical_smiles': 'O=C1C(Cl)=C(Cl)C(=O)c2cc...\n",
              "5       CHEMBL115145  {'canonical_smiles': 'O=C(O)c1cc(Cc2ccc(O)c(C(...\n",
              "6       CHEMBL382617  {'canonical_smiles': 'Cc1ccn2c(CCc3nnc4cc(C)cc...\n",
              "7       CHEMBL383475  {'canonical_smiles': 'O=C(O)C(Cc1c[nH]c2ccccc1..."
            ],
            "text/html": [
              "\n",
              "  <div id=\"df-ed651ab2-3c37-4ad3-a654-0835aa382e4c\">\n",
              "    <div class=\"colab-df-container\">\n",
              "      <div>\n",
              "<style scoped>\n",
              "    .dataframe tbody tr th:only-of-type {\n",
              "        vertical-align: middle;\n",
              "    }\n",
              "\n",
              "    .dataframe tbody tr th {\n",
              "        vertical-align: top;\n",
              "    }\n",
              "\n",
              "    .dataframe thead th {\n",
              "        text-align: right;\n",
              "    }\n",
              "</style>\n",
              "<table border=\"1\" class=\"dataframe\">\n",
              "  <thead>\n",
              "    <tr style=\"text-align: right;\">\n",
              "      <th></th>\n",
              "      <th>molecule_chembl_id</th>\n",
              "      <th>molecule_structures</th>\n",
              "    </tr>\n",
              "  </thead>\n",
              "  <tbody>\n",
              "    <tr>\n",
              "      <th>0</th>\n",
              "      <td>CHEMBL44</td>\n",
              "      <td>{'canonical_smiles': 'O=c1c(-c2ccc(O)cc2)coc2c...</td>\n",
              "    </tr>\n",
              "    <tr>\n",
              "      <th>1</th>\n",
              "      <td>CHEMBL418052</td>\n",
              "      <td>{'canonical_smiles': 'Nc1ncnc2c1ncn2[C@@H]1O[C...</td>\n",
              "    </tr>\n",
              "    <tr>\n",
              "      <th>2</th>\n",
              "      <td>CHEMBL297453</td>\n",
              "      <td>{'canonical_smiles': 'O=C(O[C@@H]1Cc2c(O)cc(O)...</td>\n",
              "    </tr>\n",
              "    <tr>\n",
              "      <th>3</th>\n",
              "      <td>CHEMBL83747</td>\n",
              "      <td>{'canonical_smiles': 'O=C(NCCSSCCNC(=O)/C(Cc1c...</td>\n",
              "    </tr>\n",
              "    <tr>\n",
              "      <th>4</th>\n",
              "      <td>CHEMBL318782</td>\n",
              "      <td>{'canonical_smiles': 'O=C1C(Cl)=C(Cl)C(=O)c2cc...</td>\n",
              "    </tr>\n",
              "    <tr>\n",
              "      <th>5</th>\n",
              "      <td>CHEMBL115145</td>\n",
              "      <td>{'canonical_smiles': 'O=C(O)c1cc(Cc2ccc(O)c(C(...</td>\n",
              "    </tr>\n",
              "    <tr>\n",
              "      <th>6</th>\n",
              "      <td>CHEMBL382617</td>\n",
              "      <td>{'canonical_smiles': 'Cc1ccn2c(CCc3nnc4cc(C)cc...</td>\n",
              "    </tr>\n",
              "    <tr>\n",
              "      <th>7</th>\n",
              "      <td>CHEMBL383475</td>\n",
              "      <td>{'canonical_smiles': 'O=C(O)C(Cc1c[nH]c2ccccc1...</td>\n",
              "    </tr>\n",
              "  </tbody>\n",
              "</table>\n",
              "</div>\n",
              "      <button class=\"colab-df-convert\" onclick=\"convertToInteractive('df-ed651ab2-3c37-4ad3-a654-0835aa382e4c')\"\n",
              "              title=\"Convert this dataframe to an interactive table.\"\n",
              "              style=\"display:none;\">\n",
              "        \n",
              "  <svg xmlns=\"http://www.w3.org/2000/svg\" height=\"24px\"viewBox=\"0 0 24 24\"\n",
              "       width=\"24px\">\n",
              "    <path d=\"M0 0h24v24H0V0z\" fill=\"none\"/>\n",
              "    <path d=\"M18.56 5.44l.94 2.06.94-2.06 2.06-.94-2.06-.94-.94-2.06-.94 2.06-2.06.94zm-11 1L8.5 8.5l.94-2.06 2.06-.94-2.06-.94L8.5 2.5l-.94 2.06-2.06.94zm10 10l.94 2.06.94-2.06 2.06-.94-2.06-.94-.94-2.06-.94 2.06-2.06.94z\"/><path d=\"M17.41 7.96l-1.37-1.37c-.4-.4-.92-.59-1.43-.59-.52 0-1.04.2-1.43.59L10.3 9.45l-7.72 7.72c-.78.78-.78 2.05 0 2.83L4 21.41c.39.39.9.59 1.41.59.51 0 1.02-.2 1.41-.59l7.78-7.78 2.81-2.81c.8-.78.8-2.07 0-2.86zM5.41 20L4 18.59l7.72-7.72 1.47 1.35L5.41 20z\"/>\n",
              "  </svg>\n",
              "      </button>\n",
              "      \n",
              "  <style>\n",
              "    .colab-df-container {\n",
              "      display:flex;\n",
              "      flex-wrap:wrap;\n",
              "      gap: 12px;\n",
              "    }\n",
              "\n",
              "    .colab-df-convert {\n",
              "      background-color: #E8F0FE;\n",
              "      border: none;\n",
              "      border-radius: 50%;\n",
              "      cursor: pointer;\n",
              "      display: none;\n",
              "      fill: #1967D2;\n",
              "      height: 32px;\n",
              "      padding: 0 0 0 0;\n",
              "      width: 32px;\n",
              "    }\n",
              "\n",
              "    .colab-df-convert:hover {\n",
              "      background-color: #E2EBFA;\n",
              "      box-shadow: 0px 1px 2px rgba(60, 64, 67, 0.3), 0px 1px 3px 1px rgba(60, 64, 67, 0.15);\n",
              "      fill: #174EA6;\n",
              "    }\n",
              "\n",
              "    [theme=dark] .colab-df-convert {\n",
              "      background-color: #3B4455;\n",
              "      fill: #D2E3FC;\n",
              "    }\n",
              "\n",
              "    [theme=dark] .colab-df-convert:hover {\n",
              "      background-color: #434B5C;\n",
              "      box-shadow: 0px 1px 3px 1px rgba(0, 0, 0, 0.15);\n",
              "      filter: drop-shadow(0px 1px 2px rgba(0, 0, 0, 0.3));\n",
              "      fill: #FFFFFF;\n",
              "    }\n",
              "  </style>\n",
              "\n",
              "      <script>\n",
              "        const buttonEl =\n",
              "          document.querySelector('#df-ed651ab2-3c37-4ad3-a654-0835aa382e4c button.colab-df-convert');\n",
              "        buttonEl.style.display =\n",
              "          google.colab.kernel.accessAllowed ? 'block' : 'none';\n",
              "\n",
              "        async function convertToInteractive(key) {\n",
              "          const element = document.querySelector('#df-ed651ab2-3c37-4ad3-a654-0835aa382e4c');\n",
              "          const dataTable =\n",
              "            await google.colab.kernel.invokeFunction('convertToInteractive',\n",
              "                                                     [key], {});\n",
              "          if (!dataTable) return;\n",
              "\n",
              "          const docLinkHtml = 'Like what you see? Visit the ' +\n",
              "            '<a target=\"_blank\" href=https://colab.research.google.com/notebooks/data_table.ipynb>data table notebook</a>'\n",
              "            + ' to learn more about interactive tables.';\n",
              "          element.innerHTML = '';\n",
              "          dataTable['output_type'] = 'display_data';\n",
              "          await google.colab.output.renderOutput(dataTable, element);\n",
              "          const docLink = document.createElement('div');\n",
              "          docLink.innerHTML = docLinkHtml;\n",
              "          element.appendChild(docLink);\n",
              "        }\n",
              "      </script>\n",
              "    </div>\n",
              "  </div>\n",
              "  "
            ]
          },
          "metadata": {},
          "execution_count": 30
        }
      ]
    },
    {
      "cell_type": "code",
      "source": [
        "compounds_df.dropna(axis=0, how=\"any\", inplace=True)\n",
        "print(f\"DataFrame shape: {compounds_df.shape}\")"
      ],
      "metadata": {
        "colab": {
          "base_uri": "https://localhost:8080/"
        },
        "id": "L44F44rfVxvl",
        "outputId": "d1662226-e2f8-42f2-c68a-ec3e55f5716c"
      },
      "execution_count": null,
      "outputs": [
        {
          "output_type": "stream",
          "name": "stdout",
          "text": [
            "DataFrame shape: (196, 2)\n"
          ]
        }
      ]
    },
    {
      "cell_type": "code",
      "source": [
        "compounds_df.drop_duplicates(\"molecule_chembl_id\", keep=\"first\", inplace=True)\n",
        "print(f\"DataFrame shape: {compounds_df.shape}\")"
      ],
      "metadata": {
        "colab": {
          "base_uri": "https://localhost:8080/"
        },
        "id": "4WrPHIoqVz61",
        "outputId": "37546147-1bcc-48ab-8431-a4b240475753"
      },
      "execution_count": null,
      "outputs": [
        {
          "output_type": "stream",
          "name": "stdout",
          "text": [
            "DataFrame shape: (196, 2)\n"
          ]
        }
      ]
    },
    {
      "cell_type": "code",
      "source": [
        "compounds_df.iloc[0].molecule_structures.keys()"
      ],
      "metadata": {
        "colab": {
          "base_uri": "https://localhost:8080/"
        },
        "id": "_n084rEeV2F8",
        "outputId": "86ffda1c-0aef-4949-d017-2ed6d4e79d94"
      },
      "execution_count": null,
      "outputs": [
        {
          "output_type": "execute_result",
          "data": {
            "text/plain": [
              "dict_keys(['canonical_smiles', 'molfile', 'standard_inchi', 'standard_inchi_key'])"
            ]
          },
          "metadata": {},
          "execution_count": 33
        }
      ]
    },
    {
      "cell_type": "code",
      "source": [
        "canonical_smiles = []\n",
        "for i, compounds in compounds_df.iterrows():\n",
        "    try:\n",
        "        canonical_smiles.append(compounds[\"molecule_structures\"][\"canonical_smiles\"])\n",
        "    except KeyError:\n",
        "        canonical_smiles.append(None)\n",
        "\n",
        "compounds_df[\"smiles\"] = canonical_smiles\n",
        "compounds_df.drop(\"molecule_structures\", axis=1, inplace=True)\n",
        "print(f\"DataFrame shape: {compounds_df.shape}\")"
      ],
      "metadata": {
        "colab": {
          "base_uri": "https://localhost:8080/"
        },
        "id": "hCNWJHd6V4Dl",
        "outputId": "a34da833-4f8c-4e1b-ca1d-5f7f29d02c5e"
      },
      "execution_count": null,
      "outputs": [
        {
          "output_type": "stream",
          "name": "stdout",
          "text": [
            "DataFrame shape: (196, 2)\n"
          ]
        }
      ]
    },
    {
      "cell_type": "code",
      "source": [
        "compounds_df.dropna(axis=0, how=\"any\", inplace=True)\n",
        "print(f\"DataFrame shape: {compounds_df.shape}\")"
      ],
      "metadata": {
        "colab": {
          "base_uri": "https://localhost:8080/"
        },
        "id": "hKMg_SKtV6hs",
        "outputId": "140e0807-7445-4d8c-e8af-26145ee06485"
      },
      "execution_count": null,
      "outputs": [
        {
          "output_type": "stream",
          "name": "stdout",
          "text": [
            "DataFrame shape: (196, 2)\n"
          ]
        }
      ]
    },
    {
      "cell_type": "code",
      "source": [
        "print(f\"Compounds filtered: {compounds_df.shape[0]}\")\n",
        "compounds_df.columns"
      ],
      "metadata": {
        "colab": {
          "base_uri": "https://localhost:8080/"
        },
        "id": "7FHec8GWV9Ll",
        "outputId": "d4526290-7c01-40b7-bf2b-b28f17bf7993"
      },
      "execution_count": null,
      "outputs": [
        {
          "output_type": "stream",
          "name": "stdout",
          "text": [
            "Compounds filtered: 196\n"
          ]
        },
        {
          "output_type": "execute_result",
          "data": {
            "text/plain": [
              "Index(['molecule_chembl_id', 'smiles'], dtype='object')"
            ]
          },
          "metadata": {},
          "execution_count": 36
        }
      ]
    },
    {
      "cell_type": "code",
      "source": [
        "compounds_df.reset_index(drop=True, inplace=True)\n",
        "compounds_df.head(8)"
      ],
      "metadata": {
        "colab": {
          "base_uri": "https://localhost:8080/",
          "height": 300
        },
        "id": "i61zJ7fAV_N0",
        "outputId": "62c468d8-6d6a-460e-c674-9d355ff655fe"
      },
      "execution_count": null,
      "outputs": [
        {
          "output_type": "execute_result",
          "data": {
            "text/plain": [
              "  molecule_chembl_id                                             smiles\n",
              "0           CHEMBL44               O=c1c(-c2ccc(O)cc2)coc2cc(O)cc(O)c12\n",
              "1       CHEMBL418052  Nc1ncnc2c1ncn2[C@@H]1O[C@H](CSCC[C@H](N)C(=O)O...\n",
              "2       CHEMBL297453  O=C(O[C@@H]1Cc2c(O)cc(O)cc2O[C@@H]1c1cc(O)c(O)...\n",
              "3        CHEMBL83747  O=C(NCCSSCCNC(=O)/C(Cc1ccc(O)c(Br)c1)=N/O)/C(C...\n",
              "4       CHEMBL318782                      O=C1C(Cl)=C(Cl)C(=O)c2ccccc21\n",
              "5       CHEMBL115145              O=C(O)c1cc(Cc2ccc(O)c(C(=O)O)c2)ccc1O\n",
              "6       CHEMBL382617                 Cc1ccn2c(CCc3nnc4cc(C)ccn34)nnc2c1\n",
              "7       CHEMBL383475      O=C(O)C(Cc1c[nH]c2ccccc12)N1C(=O)c2ccccc2C1=O"
            ],
            "text/html": [
              "\n",
              "  <div id=\"df-f6fdcece-803b-46f7-8206-88cab190e646\">\n",
              "    <div class=\"colab-df-container\">\n",
              "      <div>\n",
              "<style scoped>\n",
              "    .dataframe tbody tr th:only-of-type {\n",
              "        vertical-align: middle;\n",
              "    }\n",
              "\n",
              "    .dataframe tbody tr th {\n",
              "        vertical-align: top;\n",
              "    }\n",
              "\n",
              "    .dataframe thead th {\n",
              "        text-align: right;\n",
              "    }\n",
              "</style>\n",
              "<table border=\"1\" class=\"dataframe\">\n",
              "  <thead>\n",
              "    <tr style=\"text-align: right;\">\n",
              "      <th></th>\n",
              "      <th>molecule_chembl_id</th>\n",
              "      <th>smiles</th>\n",
              "    </tr>\n",
              "  </thead>\n",
              "  <tbody>\n",
              "    <tr>\n",
              "      <th>0</th>\n",
              "      <td>CHEMBL44</td>\n",
              "      <td>O=c1c(-c2ccc(O)cc2)coc2cc(O)cc(O)c12</td>\n",
              "    </tr>\n",
              "    <tr>\n",
              "      <th>1</th>\n",
              "      <td>CHEMBL418052</td>\n",
              "      <td>Nc1ncnc2c1ncn2[C@@H]1O[C@H](CSCC[C@H](N)C(=O)O...</td>\n",
              "    </tr>\n",
              "    <tr>\n",
              "      <th>2</th>\n",
              "      <td>CHEMBL297453</td>\n",
              "      <td>O=C(O[C@@H]1Cc2c(O)cc(O)cc2O[C@@H]1c1cc(O)c(O)...</td>\n",
              "    </tr>\n",
              "    <tr>\n",
              "      <th>3</th>\n",
              "      <td>CHEMBL83747</td>\n",
              "      <td>O=C(NCCSSCCNC(=O)/C(Cc1ccc(O)c(Br)c1)=N/O)/C(C...</td>\n",
              "    </tr>\n",
              "    <tr>\n",
              "      <th>4</th>\n",
              "      <td>CHEMBL318782</td>\n",
              "      <td>O=C1C(Cl)=C(Cl)C(=O)c2ccccc21</td>\n",
              "    </tr>\n",
              "    <tr>\n",
              "      <th>5</th>\n",
              "      <td>CHEMBL115145</td>\n",
              "      <td>O=C(O)c1cc(Cc2ccc(O)c(C(=O)O)c2)ccc1O</td>\n",
              "    </tr>\n",
              "    <tr>\n",
              "      <th>6</th>\n",
              "      <td>CHEMBL382617</td>\n",
              "      <td>Cc1ccn2c(CCc3nnc4cc(C)ccn34)nnc2c1</td>\n",
              "    </tr>\n",
              "    <tr>\n",
              "      <th>7</th>\n",
              "      <td>CHEMBL383475</td>\n",
              "      <td>O=C(O)C(Cc1c[nH]c2ccccc12)N1C(=O)c2ccccc2C1=O</td>\n",
              "    </tr>\n",
              "  </tbody>\n",
              "</table>\n",
              "</div>\n",
              "      <button class=\"colab-df-convert\" onclick=\"convertToInteractive('df-f6fdcece-803b-46f7-8206-88cab190e646')\"\n",
              "              title=\"Convert this dataframe to an interactive table.\"\n",
              "              style=\"display:none;\">\n",
              "        \n",
              "  <svg xmlns=\"http://www.w3.org/2000/svg\" height=\"24px\"viewBox=\"0 0 24 24\"\n",
              "       width=\"24px\">\n",
              "    <path d=\"M0 0h24v24H0V0z\" fill=\"none\"/>\n",
              "    <path d=\"M18.56 5.44l.94 2.06.94-2.06 2.06-.94-2.06-.94-.94-2.06-.94 2.06-2.06.94zm-11 1L8.5 8.5l.94-2.06 2.06-.94-2.06-.94L8.5 2.5l-.94 2.06-2.06.94zm10 10l.94 2.06.94-2.06 2.06-.94-2.06-.94-.94-2.06-.94 2.06-2.06.94z\"/><path d=\"M17.41 7.96l-1.37-1.37c-.4-.4-.92-.59-1.43-.59-.52 0-1.04.2-1.43.59L10.3 9.45l-7.72 7.72c-.78.78-.78 2.05 0 2.83L4 21.41c.39.39.9.59 1.41.59.51 0 1.02-.2 1.41-.59l7.78-7.78 2.81-2.81c.8-.78.8-2.07 0-2.86zM5.41 20L4 18.59l7.72-7.72 1.47 1.35L5.41 20z\"/>\n",
              "  </svg>\n",
              "      </button>\n",
              "      \n",
              "  <style>\n",
              "    .colab-df-container {\n",
              "      display:flex;\n",
              "      flex-wrap:wrap;\n",
              "      gap: 12px;\n",
              "    }\n",
              "\n",
              "    .colab-df-convert {\n",
              "      background-color: #E8F0FE;\n",
              "      border: none;\n",
              "      border-radius: 50%;\n",
              "      cursor: pointer;\n",
              "      display: none;\n",
              "      fill: #1967D2;\n",
              "      height: 32px;\n",
              "      padding: 0 0 0 0;\n",
              "      width: 32px;\n",
              "    }\n",
              "\n",
              "    .colab-df-convert:hover {\n",
              "      background-color: #E2EBFA;\n",
              "      box-shadow: 0px 1px 2px rgba(60, 64, 67, 0.3), 0px 1px 3px 1px rgba(60, 64, 67, 0.15);\n",
              "      fill: #174EA6;\n",
              "    }\n",
              "\n",
              "    [theme=dark] .colab-df-convert {\n",
              "      background-color: #3B4455;\n",
              "      fill: #D2E3FC;\n",
              "    }\n",
              "\n",
              "    [theme=dark] .colab-df-convert:hover {\n",
              "      background-color: #434B5C;\n",
              "      box-shadow: 0px 1px 3px 1px rgba(0, 0, 0, 0.15);\n",
              "      filter: drop-shadow(0px 1px 2px rgba(0, 0, 0, 0.3));\n",
              "      fill: #FFFFFF;\n",
              "    }\n",
              "  </style>\n",
              "\n",
              "      <script>\n",
              "        const buttonEl =\n",
              "          document.querySelector('#df-f6fdcece-803b-46f7-8206-88cab190e646 button.colab-df-convert');\n",
              "        buttonEl.style.display =\n",
              "          google.colab.kernel.accessAllowed ? 'block' : 'none';\n",
              "\n",
              "        async function convertToInteractive(key) {\n",
              "          const element = document.querySelector('#df-f6fdcece-803b-46f7-8206-88cab190e646');\n",
              "          const dataTable =\n",
              "            await google.colab.kernel.invokeFunction('convertToInteractive',\n",
              "                                                     [key], {});\n",
              "          if (!dataTable) return;\n",
              "\n",
              "          const docLinkHtml = 'Like what you see? Visit the ' +\n",
              "            '<a target=\"_blank\" href=https://colab.research.google.com/notebooks/data_table.ipynb>data table notebook</a>'\n",
              "            + ' to learn more about interactive tables.';\n",
              "          element.innerHTML = '';\n",
              "          dataTable['output_type'] = 'display_data';\n",
              "          await google.colab.output.renderOutput(dataTable, element);\n",
              "          const docLink = document.createElement('div');\n",
              "          docLink.innerHTML = docLinkHtml;\n",
              "          element.appendChild(docLink);\n",
              "        }\n",
              "      </script>\n",
              "    </div>\n",
              "  </div>\n",
              "  "
            ]
          },
          "metadata": {},
          "execution_count": 37
        }
      ]
    },
    {
      "cell_type": "code",
      "source": [
        "output_df = pd.merge(\n",
        "    bioactivities_df[[\"molecule_chembl_id\", \"IC50\", \"units\"]],\n",
        "    compounds_df,\n",
        "    on=\"molecule_chembl_id\",\n",
        ")"
      ],
      "metadata": {
        "id": "STVqAmdUWGZ0"
      },
      "execution_count": null,
      "outputs": []
    },
    {
      "cell_type": "code",
      "source": [
        "output_df.reset_index(drop=True, inplace=True)\n",
        "\n",
        "print(f\"Dataset with {output_df.shape[0]} entries.\")"
      ],
      "metadata": {
        "colab": {
          "base_uri": "https://localhost:8080/"
        },
        "id": "5VtjnYLDWIhk",
        "outputId": "470040c8-41b9-4911-a51d-aaad02819bc4"
      },
      "execution_count": null,
      "outputs": [
        {
          "output_type": "stream",
          "name": "stdout",
          "text": [
            "Dataset with 196 entries.\n"
          ]
        }
      ]
    },
    {
      "cell_type": "code",
      "source": [
        "output_df.dtypes"
      ],
      "metadata": {
        "colab": {
          "base_uri": "https://localhost:8080/"
        },
        "id": "FYgxPtSoWKzE",
        "outputId": "47e26353-e1a2-4f78-a970-9a5bc588ba86"
      },
      "execution_count": null,
      "outputs": [
        {
          "output_type": "execute_result",
          "data": {
            "text/plain": [
              "molecule_chembl_id     object\n",
              "IC50                  float64\n",
              "units                  object\n",
              "units                  object\n",
              "smiles                 object\n",
              "dtype: object"
            ]
          },
          "metadata": {},
          "execution_count": 40
        }
      ]
    },
    {
      "cell_type": "code",
      "source": [
        "output_df.head(8)"
      ],
      "metadata": {
        "colab": {
          "base_uri": "https://localhost:8080/",
          "height": 300
        },
        "id": "WIUaebZ8WMjU",
        "outputId": "f82c0daf-c2a8-43bb-d6fc-fa293ecb3d49"
      },
      "execution_count": null,
      "outputs": [
        {
          "output_type": "execute_result",
          "data": {
            "text/plain": [
              "  molecule_chembl_id      IC50 units units  \\\n",
              "0       CHEMBL382617  100000.0    nM    uM   \n",
              "1       CHEMBL383475   50000.0    nM    uM   \n",
              "2       CHEMBL418052    2000.0    nM    uM   \n",
              "3       CHEMBL563570  300000.0    nM    uM   \n",
              "4       CHEMBL561047   45000.0    nM    uM   \n",
              "5       CHEMBL552309    1500.0    nM    uM   \n",
              "6       CHEMBL552246    8000.0    nM    uM   \n",
              "7       CHEMBL563946   45000.0    nM    uM   \n",
              "\n",
              "                                              smiles  \n",
              "0                 Cc1ccn2c(CCc3nnc4cc(C)ccn34)nnc2c1  \n",
              "1      O=C(O)C(Cc1c[nH]c2ccccc12)N1C(=O)c2ccccc2C1=O  \n",
              "2  Nc1ncnc2c1ncn2[C@@H]1O[C@H](CSCC[C@H](N)C(=O)O...  \n",
              "3  N[C@@H](CCSC[C@H]1O[C@@H](n2cnc3cncnc32)[C@H](...  \n",
              "4  Nc1nccc2c1ncn2[C@@H]1O[C@H](CSCCC(N)C(=O)O)[C@...  \n",
              "5  Nc1ncnc2c1ccn2[C@@H]1O[C@H](CSCC[C@H](N)C(=O)O...  \n",
              "6  Nc1ncnc2c1nnn2[C@@H]1O[C@H](CSCCC(N)C(=O)O)[C@...  \n",
              "7  Nc1ccnc2c1ncn2[C@@H]1O[C@H](CSCCC(N)C(=O)O)[C@...  "
            ],
            "text/html": [
              "\n",
              "  <div id=\"df-3b4315b8-f207-4a25-9b16-f5353601bccb\">\n",
              "    <div class=\"colab-df-container\">\n",
              "      <div>\n",
              "<style scoped>\n",
              "    .dataframe tbody tr th:only-of-type {\n",
              "        vertical-align: middle;\n",
              "    }\n",
              "\n",
              "    .dataframe tbody tr th {\n",
              "        vertical-align: top;\n",
              "    }\n",
              "\n",
              "    .dataframe thead th {\n",
              "        text-align: right;\n",
              "    }\n",
              "</style>\n",
              "<table border=\"1\" class=\"dataframe\">\n",
              "  <thead>\n",
              "    <tr style=\"text-align: right;\">\n",
              "      <th></th>\n",
              "      <th>molecule_chembl_id</th>\n",
              "      <th>IC50</th>\n",
              "      <th>units</th>\n",
              "      <th>units</th>\n",
              "      <th>smiles</th>\n",
              "    </tr>\n",
              "  </thead>\n",
              "  <tbody>\n",
              "    <tr>\n",
              "      <th>0</th>\n",
              "      <td>CHEMBL382617</td>\n",
              "      <td>100000.0</td>\n",
              "      <td>nM</td>\n",
              "      <td>uM</td>\n",
              "      <td>Cc1ccn2c(CCc3nnc4cc(C)ccn34)nnc2c1</td>\n",
              "    </tr>\n",
              "    <tr>\n",
              "      <th>1</th>\n",
              "      <td>CHEMBL383475</td>\n",
              "      <td>50000.0</td>\n",
              "      <td>nM</td>\n",
              "      <td>uM</td>\n",
              "      <td>O=C(O)C(Cc1c[nH]c2ccccc12)N1C(=O)c2ccccc2C1=O</td>\n",
              "    </tr>\n",
              "    <tr>\n",
              "      <th>2</th>\n",
              "      <td>CHEMBL418052</td>\n",
              "      <td>2000.0</td>\n",
              "      <td>nM</td>\n",
              "      <td>uM</td>\n",
              "      <td>Nc1ncnc2c1ncn2[C@@H]1O[C@H](CSCC[C@H](N)C(=O)O...</td>\n",
              "    </tr>\n",
              "    <tr>\n",
              "      <th>3</th>\n",
              "      <td>CHEMBL563570</td>\n",
              "      <td>300000.0</td>\n",
              "      <td>nM</td>\n",
              "      <td>uM</td>\n",
              "      <td>N[C@@H](CCSC[C@H]1O[C@@H](n2cnc3cncnc32)[C@H](...</td>\n",
              "    </tr>\n",
              "    <tr>\n",
              "      <th>4</th>\n",
              "      <td>CHEMBL561047</td>\n",
              "      <td>45000.0</td>\n",
              "      <td>nM</td>\n",
              "      <td>uM</td>\n",
              "      <td>Nc1nccc2c1ncn2[C@@H]1O[C@H](CSCCC(N)C(=O)O)[C@...</td>\n",
              "    </tr>\n",
              "    <tr>\n",
              "      <th>5</th>\n",
              "      <td>CHEMBL552309</td>\n",
              "      <td>1500.0</td>\n",
              "      <td>nM</td>\n",
              "      <td>uM</td>\n",
              "      <td>Nc1ncnc2c1ccn2[C@@H]1O[C@H](CSCC[C@H](N)C(=O)O...</td>\n",
              "    </tr>\n",
              "    <tr>\n",
              "      <th>6</th>\n",
              "      <td>CHEMBL552246</td>\n",
              "      <td>8000.0</td>\n",
              "      <td>nM</td>\n",
              "      <td>uM</td>\n",
              "      <td>Nc1ncnc2c1nnn2[C@@H]1O[C@H](CSCCC(N)C(=O)O)[C@...</td>\n",
              "    </tr>\n",
              "    <tr>\n",
              "      <th>7</th>\n",
              "      <td>CHEMBL563946</td>\n",
              "      <td>45000.0</td>\n",
              "      <td>nM</td>\n",
              "      <td>uM</td>\n",
              "      <td>Nc1ccnc2c1ncn2[C@@H]1O[C@H](CSCCC(N)C(=O)O)[C@...</td>\n",
              "    </tr>\n",
              "  </tbody>\n",
              "</table>\n",
              "</div>\n",
              "      <button class=\"colab-df-convert\" onclick=\"convertToInteractive('df-3b4315b8-f207-4a25-9b16-f5353601bccb')\"\n",
              "              title=\"Convert this dataframe to an interactive table.\"\n",
              "              style=\"display:none;\">\n",
              "        \n",
              "  <svg xmlns=\"http://www.w3.org/2000/svg\" height=\"24px\"viewBox=\"0 0 24 24\"\n",
              "       width=\"24px\">\n",
              "    <path d=\"M0 0h24v24H0V0z\" fill=\"none\"/>\n",
              "    <path d=\"M18.56 5.44l.94 2.06.94-2.06 2.06-.94-2.06-.94-.94-2.06-.94 2.06-2.06.94zm-11 1L8.5 8.5l.94-2.06 2.06-.94-2.06-.94L8.5 2.5l-.94 2.06-2.06.94zm10 10l.94 2.06.94-2.06 2.06-.94-2.06-.94-.94-2.06-.94 2.06-2.06.94z\"/><path d=\"M17.41 7.96l-1.37-1.37c-.4-.4-.92-.59-1.43-.59-.52 0-1.04.2-1.43.59L10.3 9.45l-7.72 7.72c-.78.78-.78 2.05 0 2.83L4 21.41c.39.39.9.59 1.41.59.51 0 1.02-.2 1.41-.59l7.78-7.78 2.81-2.81c.8-.78.8-2.07 0-2.86zM5.41 20L4 18.59l7.72-7.72 1.47 1.35L5.41 20z\"/>\n",
              "  </svg>\n",
              "      </button>\n",
              "      \n",
              "  <style>\n",
              "    .colab-df-container {\n",
              "      display:flex;\n",
              "      flex-wrap:wrap;\n",
              "      gap: 12px;\n",
              "    }\n",
              "\n",
              "    .colab-df-convert {\n",
              "      background-color: #E8F0FE;\n",
              "      border: none;\n",
              "      border-radius: 50%;\n",
              "      cursor: pointer;\n",
              "      display: none;\n",
              "      fill: #1967D2;\n",
              "      height: 32px;\n",
              "      padding: 0 0 0 0;\n",
              "      width: 32px;\n",
              "    }\n",
              "\n",
              "    .colab-df-convert:hover {\n",
              "      background-color: #E2EBFA;\n",
              "      box-shadow: 0px 1px 2px rgba(60, 64, 67, 0.3), 0px 1px 3px 1px rgba(60, 64, 67, 0.15);\n",
              "      fill: #174EA6;\n",
              "    }\n",
              "\n",
              "    [theme=dark] .colab-df-convert {\n",
              "      background-color: #3B4455;\n",
              "      fill: #D2E3FC;\n",
              "    }\n",
              "\n",
              "    [theme=dark] .colab-df-convert:hover {\n",
              "      background-color: #434B5C;\n",
              "      box-shadow: 0px 1px 3px 1px rgba(0, 0, 0, 0.15);\n",
              "      filter: drop-shadow(0px 1px 2px rgba(0, 0, 0, 0.3));\n",
              "      fill: #FFFFFF;\n",
              "    }\n",
              "  </style>\n",
              "\n",
              "      <script>\n",
              "        const buttonEl =\n",
              "          document.querySelector('#df-3b4315b8-f207-4a25-9b16-f5353601bccb button.colab-df-convert');\n",
              "        buttonEl.style.display =\n",
              "          google.colab.kernel.accessAllowed ? 'block' : 'none';\n",
              "\n",
              "        async function convertToInteractive(key) {\n",
              "          const element = document.querySelector('#df-3b4315b8-f207-4a25-9b16-f5353601bccb');\n",
              "          const dataTable =\n",
              "            await google.colab.kernel.invokeFunction('convertToInteractive',\n",
              "                                                     [key], {});\n",
              "          if (!dataTable) return;\n",
              "\n",
              "          const docLinkHtml = 'Like what you see? Visit the ' +\n",
              "            '<a target=\"_blank\" href=https://colab.research.google.com/notebooks/data_table.ipynb>data table notebook</a>'\n",
              "            + ' to learn more about interactive tables.';\n",
              "          element.innerHTML = '';\n",
              "          dataTable['output_type'] = 'display_data';\n",
              "          await google.colab.output.renderOutput(dataTable, element);\n",
              "          const docLink = document.createElement('div');\n",
              "          docLink.innerHTML = docLinkHtml;\n",
              "          element.appendChild(docLink);\n",
              "        }\n",
              "      </script>\n",
              "    </div>\n",
              "  </div>\n",
              "  "
            ]
          },
          "metadata": {},
          "execution_count": 41
        }
      ]
    },
    {
      "cell_type": "code",
      "source": [
        "def convert_ic50_to_pic50(IC50_value):\n",
        "    pIC50_value =  9 - math.log10(IC50_value)\n",
        "    return pIC50_value"
      ],
      "metadata": {
        "id": "Sq5VW4ycWPKP"
      },
      "execution_count": null,
      "outputs": []
    },
    {
      "cell_type": "code",
      "source": [
        "output_df[\"pIC50\"] = output_df.apply(lambda x: convert_ic50_to_pic50(x.IC50), axis=1)"
      ],
      "metadata": {
        "id": "IbttVI8OWPDz"
      },
      "execution_count": null,
      "outputs": []
    },
    {
      "cell_type": "code",
      "source": [
        "output_df.head(196)"
      ],
      "metadata": {
        "colab": {
          "base_uri": "https://localhost:8080/",
          "height": 423
        },
        "id": "BYG_qo-qWSoO",
        "outputId": "e0253621-1878-4997-eaf0-e0bea8e6d625"
      },
      "execution_count": null,
      "outputs": [
        {
          "output_type": "execute_result",
          "data": {
            "text/plain": [
              "    molecule_chembl_id      IC50 units units  \\\n",
              "0         CHEMBL382617  100000.0    nM    uM   \n",
              "1         CHEMBL383475   50000.0    nM    uM   \n",
              "2         CHEMBL418052    2000.0    nM    uM   \n",
              "3         CHEMBL563570  300000.0    nM    uM   \n",
              "4         CHEMBL561047   45000.0    nM    uM   \n",
              "..                 ...       ...   ...   ...   \n",
              "191      CHEMBL4869419     323.0    nM    nM   \n",
              "192      CHEMBL4874514     540.0    nM    nM   \n",
              "193      CHEMBL4855461    2660.0    nM    nM   \n",
              "194      CHEMBL4856550    4180.0    nM    nM   \n",
              "195      CHEMBL4854659    8410.0    nM    nM   \n",
              "\n",
              "                                                smiles     pIC50  \n",
              "0                   Cc1ccn2c(CCc3nnc4cc(C)ccn34)nnc2c1  4.000000  \n",
              "1        O=C(O)C(Cc1c[nH]c2ccccc12)N1C(=O)c2ccccc2C1=O  4.301030  \n",
              "2    Nc1ncnc2c1ncn2[C@@H]1O[C@H](CSCC[C@H](N)C(=O)O...  5.698970  \n",
              "3    N[C@@H](CCSC[C@H]1O[C@@H](n2cnc3cncnc32)[C@H](...  3.522879  \n",
              "4    Nc1nccc2c1ncn2[C@@H]1O[C@H](CSCCC(N)C(=O)O)[C@...  4.346787  \n",
              "..                                                 ...       ...  \n",
              "191  COc1cc2nc(-c3ccc(C)o3)cc(NCC3CCN(Cc4ccc(C(=O)N...  6.490797  \n",
              "192  COc1cc2nc(-c3ccc(C)o3)cc(NCC3CCN(C4CC(C(=O)NO)...  6.267606  \n",
              "193  COc1cc2nc(-c3ccc(C)o3)cc(N[C@H]3CC[C@@H](C(=O)...  5.575118  \n",
              "194  COc1cc2nc(-c3ccc(C)o3)cc(N[C@H]3CC[C@H](C(=O)N...  5.378824  \n",
              "195  COc1cc2nc(-c3ccc(C)o3)cc(NCC3CCN(c4ccc(C(=O)NO...  5.075204  \n",
              "\n",
              "[196 rows x 6 columns]"
            ],
            "text/html": [
              "\n",
              "  <div id=\"df-b7629856-3d55-410a-8d5e-fe529eea23f0\">\n",
              "    <div class=\"colab-df-container\">\n",
              "      <div>\n",
              "<style scoped>\n",
              "    .dataframe tbody tr th:only-of-type {\n",
              "        vertical-align: middle;\n",
              "    }\n",
              "\n",
              "    .dataframe tbody tr th {\n",
              "        vertical-align: top;\n",
              "    }\n",
              "\n",
              "    .dataframe thead th {\n",
              "        text-align: right;\n",
              "    }\n",
              "</style>\n",
              "<table border=\"1\" class=\"dataframe\">\n",
              "  <thead>\n",
              "    <tr style=\"text-align: right;\">\n",
              "      <th></th>\n",
              "      <th>molecule_chembl_id</th>\n",
              "      <th>IC50</th>\n",
              "      <th>units</th>\n",
              "      <th>units</th>\n",
              "      <th>smiles</th>\n",
              "      <th>pIC50</th>\n",
              "    </tr>\n",
              "  </thead>\n",
              "  <tbody>\n",
              "    <tr>\n",
              "      <th>0</th>\n",
              "      <td>CHEMBL382617</td>\n",
              "      <td>100000.0</td>\n",
              "      <td>nM</td>\n",
              "      <td>uM</td>\n",
              "      <td>Cc1ccn2c(CCc3nnc4cc(C)ccn34)nnc2c1</td>\n",
              "      <td>4.000000</td>\n",
              "    </tr>\n",
              "    <tr>\n",
              "      <th>1</th>\n",
              "      <td>CHEMBL383475</td>\n",
              "      <td>50000.0</td>\n",
              "      <td>nM</td>\n",
              "      <td>uM</td>\n",
              "      <td>O=C(O)C(Cc1c[nH]c2ccccc12)N1C(=O)c2ccccc2C1=O</td>\n",
              "      <td>4.301030</td>\n",
              "    </tr>\n",
              "    <tr>\n",
              "      <th>2</th>\n",
              "      <td>CHEMBL418052</td>\n",
              "      <td>2000.0</td>\n",
              "      <td>nM</td>\n",
              "      <td>uM</td>\n",
              "      <td>Nc1ncnc2c1ncn2[C@@H]1O[C@H](CSCC[C@H](N)C(=O)O...</td>\n",
              "      <td>5.698970</td>\n",
              "    </tr>\n",
              "    <tr>\n",
              "      <th>3</th>\n",
              "      <td>CHEMBL563570</td>\n",
              "      <td>300000.0</td>\n",
              "      <td>nM</td>\n",
              "      <td>uM</td>\n",
              "      <td>N[C@@H](CCSC[C@H]1O[C@@H](n2cnc3cncnc32)[C@H](...</td>\n",
              "      <td>3.522879</td>\n",
              "    </tr>\n",
              "    <tr>\n",
              "      <th>4</th>\n",
              "      <td>CHEMBL561047</td>\n",
              "      <td>45000.0</td>\n",
              "      <td>nM</td>\n",
              "      <td>uM</td>\n",
              "      <td>Nc1nccc2c1ncn2[C@@H]1O[C@H](CSCCC(N)C(=O)O)[C@...</td>\n",
              "      <td>4.346787</td>\n",
              "    </tr>\n",
              "    <tr>\n",
              "      <th>...</th>\n",
              "      <td>...</td>\n",
              "      <td>...</td>\n",
              "      <td>...</td>\n",
              "      <td>...</td>\n",
              "      <td>...</td>\n",
              "      <td>...</td>\n",
              "    </tr>\n",
              "    <tr>\n",
              "      <th>191</th>\n",
              "      <td>CHEMBL4869419</td>\n",
              "      <td>323.0</td>\n",
              "      <td>nM</td>\n",
              "      <td>nM</td>\n",
              "      <td>COc1cc2nc(-c3ccc(C)o3)cc(NCC3CCN(Cc4ccc(C(=O)N...</td>\n",
              "      <td>6.490797</td>\n",
              "    </tr>\n",
              "    <tr>\n",
              "      <th>192</th>\n",
              "      <td>CHEMBL4874514</td>\n",
              "      <td>540.0</td>\n",
              "      <td>nM</td>\n",
              "      <td>nM</td>\n",
              "      <td>COc1cc2nc(-c3ccc(C)o3)cc(NCC3CCN(C4CC(C(=O)NO)...</td>\n",
              "      <td>6.267606</td>\n",
              "    </tr>\n",
              "    <tr>\n",
              "      <th>193</th>\n",
              "      <td>CHEMBL4855461</td>\n",
              "      <td>2660.0</td>\n",
              "      <td>nM</td>\n",
              "      <td>nM</td>\n",
              "      <td>COc1cc2nc(-c3ccc(C)o3)cc(N[C@H]3CC[C@@H](C(=O)...</td>\n",
              "      <td>5.575118</td>\n",
              "    </tr>\n",
              "    <tr>\n",
              "      <th>194</th>\n",
              "      <td>CHEMBL4856550</td>\n",
              "      <td>4180.0</td>\n",
              "      <td>nM</td>\n",
              "      <td>nM</td>\n",
              "      <td>COc1cc2nc(-c3ccc(C)o3)cc(N[C@H]3CC[C@H](C(=O)N...</td>\n",
              "      <td>5.378824</td>\n",
              "    </tr>\n",
              "    <tr>\n",
              "      <th>195</th>\n",
              "      <td>CHEMBL4854659</td>\n",
              "      <td>8410.0</td>\n",
              "      <td>nM</td>\n",
              "      <td>nM</td>\n",
              "      <td>COc1cc2nc(-c3ccc(C)o3)cc(NCC3CCN(c4ccc(C(=O)NO...</td>\n",
              "      <td>5.075204</td>\n",
              "    </tr>\n",
              "  </tbody>\n",
              "</table>\n",
              "<p>196 rows × 6 columns</p>\n",
              "</div>\n",
              "      <button class=\"colab-df-convert\" onclick=\"convertToInteractive('df-b7629856-3d55-410a-8d5e-fe529eea23f0')\"\n",
              "              title=\"Convert this dataframe to an interactive table.\"\n",
              "              style=\"display:none;\">\n",
              "        \n",
              "  <svg xmlns=\"http://www.w3.org/2000/svg\" height=\"24px\"viewBox=\"0 0 24 24\"\n",
              "       width=\"24px\">\n",
              "    <path d=\"M0 0h24v24H0V0z\" fill=\"none\"/>\n",
              "    <path d=\"M18.56 5.44l.94 2.06.94-2.06 2.06-.94-2.06-.94-.94-2.06-.94 2.06-2.06.94zm-11 1L8.5 8.5l.94-2.06 2.06-.94-2.06-.94L8.5 2.5l-.94 2.06-2.06.94zm10 10l.94 2.06.94-2.06 2.06-.94-2.06-.94-.94-2.06-.94 2.06-2.06.94z\"/><path d=\"M17.41 7.96l-1.37-1.37c-.4-.4-.92-.59-1.43-.59-.52 0-1.04.2-1.43.59L10.3 9.45l-7.72 7.72c-.78.78-.78 2.05 0 2.83L4 21.41c.39.39.9.59 1.41.59.51 0 1.02-.2 1.41-.59l7.78-7.78 2.81-2.81c.8-.78.8-2.07 0-2.86zM5.41 20L4 18.59l7.72-7.72 1.47 1.35L5.41 20z\"/>\n",
              "  </svg>\n",
              "      </button>\n",
              "      \n",
              "  <style>\n",
              "    .colab-df-container {\n",
              "      display:flex;\n",
              "      flex-wrap:wrap;\n",
              "      gap: 12px;\n",
              "    }\n",
              "\n",
              "    .colab-df-convert {\n",
              "      background-color: #E8F0FE;\n",
              "      border: none;\n",
              "      border-radius: 50%;\n",
              "      cursor: pointer;\n",
              "      display: none;\n",
              "      fill: #1967D2;\n",
              "      height: 32px;\n",
              "      padding: 0 0 0 0;\n",
              "      width: 32px;\n",
              "    }\n",
              "\n",
              "    .colab-df-convert:hover {\n",
              "      background-color: #E2EBFA;\n",
              "      box-shadow: 0px 1px 2px rgba(60, 64, 67, 0.3), 0px 1px 3px 1px rgba(60, 64, 67, 0.15);\n",
              "      fill: #174EA6;\n",
              "    }\n",
              "\n",
              "    [theme=dark] .colab-df-convert {\n",
              "      background-color: #3B4455;\n",
              "      fill: #D2E3FC;\n",
              "    }\n",
              "\n",
              "    [theme=dark] .colab-df-convert:hover {\n",
              "      background-color: #434B5C;\n",
              "      box-shadow: 0px 1px 3px 1px rgba(0, 0, 0, 0.15);\n",
              "      filter: drop-shadow(0px 1px 2px rgba(0, 0, 0, 0.3));\n",
              "      fill: #FFFFFF;\n",
              "    }\n",
              "  </style>\n",
              "\n",
              "      <script>\n",
              "        const buttonEl =\n",
              "          document.querySelector('#df-b7629856-3d55-410a-8d5e-fe529eea23f0 button.colab-df-convert');\n",
              "        buttonEl.style.display =\n",
              "          google.colab.kernel.accessAllowed ? 'block' : 'none';\n",
              "\n",
              "        async function convertToInteractive(key) {\n",
              "          const element = document.querySelector('#df-b7629856-3d55-410a-8d5e-fe529eea23f0');\n",
              "          const dataTable =\n",
              "            await google.colab.kernel.invokeFunction('convertToInteractive',\n",
              "                                                     [key], {});\n",
              "          if (!dataTable) return;\n",
              "\n",
              "          const docLinkHtml = 'Like what you see? Visit the ' +\n",
              "            '<a target=\"_blank\" href=https://colab.research.google.com/notebooks/data_table.ipynb>data table notebook</a>'\n",
              "            + ' to learn more about interactive tables.';\n",
              "          element.innerHTML = '';\n",
              "          dataTable['output_type'] = 'display_data';\n",
              "          await google.colab.output.renderOutput(dataTable, element);\n",
              "          const docLink = document.createElement('div');\n",
              "          docLink.innerHTML = docLinkHtml;\n",
              "          element.appendChild(docLink);\n",
              "        }\n",
              "      </script>\n",
              "    </div>\n",
              "  </div>\n",
              "  "
            ]
          },
          "metadata": {},
          "execution_count": 44
        }
      ]
    },
    {
      "cell_type": "code",
      "source": [
        "output_df.hist(column=\"pIC50\", color=\"green\")\n"
      ],
      "metadata": {
        "colab": {
          "base_uri": "https://localhost:8080/",
          "height": 299
        },
        "id": "Op0aU7TNWUwu",
        "outputId": "0f920c8a-5d7c-41ae-bf4b-c5813062878c"
      },
      "execution_count": null,
      "outputs": [
        {
          "output_type": "execute_result",
          "data": {
            "text/plain": [
              "array([[<AxesSubplot:title={'center':'pIC50'}>]], dtype=object)"
            ]
          },
          "metadata": {},
          "execution_count": 45
        },
        {
          "output_type": "display_data",
          "data": {
            "text/plain": [
              "<Figure size 432x288 with 1 Axes>"
            ],
            "image/png": "[encoded data removed]"
          },
          "metadata": {
            "needs_background": "light"
          }
        }
      ]
    },
    {
      "cell_type": "code",
      "source": [
        "output_df.boxplot(column=\"pIC50\", color=\"blue\")"
      ],
      "metadata": {
        "colab": {
          "base_uri": "https://localhost:8080/",
          "height": 283
        },
        "id": "lApj2NcJWXkO",
        "outputId": "52f27010-814b-4e82-a039-512fc7404373"
      },
      "execution_count": null,
      "outputs": [
        {
          "output_type": "execute_result",
          "data": {
            "text/plain": [
              "<AxesSubplot:>"
            ]
          },
          "metadata": {},
          "execution_count": 46
        },
        {
          "output_type": "display_data",
          "data": {
            "text/plain": [
              "<Figure size 432x288 with 1 Axes>"
            ],
            "image/png": "[encoded data removed]"
          },
          "metadata": {
            "needs_background": "light"
          }
        }
      ]
    },
    {
      "cell_type": "code",
      "source": [
        "output_df_2 = output_df [[\"molecule_chembl_id\", \"smiles\", \"pIC50\"]]"
      ],
      "metadata": {
        "id": "gBNIOp54awYy"
      },
      "execution_count": null,
      "outputs": []
    },
    {
      "cell_type": "code",
      "source": [
        "output_df_2"
      ],
      "metadata": {
        "colab": {
          "base_uri": "https://localhost:8080/",
          "height": 423
        },
        "id": "L_axpP4ybTiC",
        "outputId": "1dfd4034-10db-4d4b-c5e7-cfad7b7e7e09"
      },
      "execution_count": null,
      "outputs": [
        {
          "output_type": "execute_result",
          "data": {
            "text/plain": [
              "    molecule_chembl_id                                             smiles  \\\n",
              "0         CHEMBL382617                 Cc1ccn2c(CCc3nnc4cc(C)ccn34)nnc2c1   \n",
              "1         CHEMBL383475      O=C(O)C(Cc1c[nH]c2ccccc12)N1C(=O)c2ccccc2C1=O   \n",
              "2         CHEMBL418052  Nc1ncnc2c1ncn2[C@@H]1O[C@H](CSCC[C@H](N)C(=O)O...   \n",
              "3         CHEMBL563570  N[C@@H](CCSC[C@H]1O[C@@H](n2cnc3cncnc32)[C@H](...   \n",
              "4         CHEMBL561047  Nc1nccc2c1ncn2[C@@H]1O[C@H](CSCCC(N)C(=O)O)[C@...   \n",
              "..                 ...                                                ...   \n",
              "191      CHEMBL4869419  COc1cc2nc(-c3ccc(C)o3)cc(NCC3CCN(Cc4ccc(C(=O)N...   \n",
              "192      CHEMBL4874514  COc1cc2nc(-c3ccc(C)o3)cc(NCC3CCN(C4CC(C(=O)NO)...   \n",
              "193      CHEMBL4855461  COc1cc2nc(-c3ccc(C)o3)cc(N[C@H]3CC[C@@H](C(=O)...   \n",
              "194      CHEMBL4856550  COc1cc2nc(-c3ccc(C)o3)cc(N[C@H]3CC[C@H](C(=O)N...   \n",
              "195      CHEMBL4854659  COc1cc2nc(-c3ccc(C)o3)cc(NCC3CCN(c4ccc(C(=O)NO...   \n",
              "\n",
              "        pIC50  \n",
              "0    4.000000  \n",
              "1    4.301030  \n",
              "2    5.698970  \n",
              "3    3.522879  \n",
              "4    4.346787  \n",
              "..        ...  \n",
              "191  6.490797  \n",
              "192  6.267606  \n",
              "193  5.575118  \n",
              "194  5.378824  \n",
              "195  5.075204  \n",
              "\n",
              "[196 rows x 3 columns]"
            ],
            "text/html": [
              "\n",
              "  <div id=\"df-a34dafd5-fe02-436e-89b1-bbd098cfccb4\">\n",
              "    <div class=\"colab-df-container\">\n",
              "      <div>\n",
              "<style scoped>\n",
              "    .dataframe tbody tr th:only-of-type {\n",
              "        vertical-align: middle;\n",
              "    }\n",
              "\n",
              "    .dataframe tbody tr th {\n",
              "        vertical-align: top;\n",
              "    }\n",
              "\n",
              "    .dataframe thead th {\n",
              "        text-align: right;\n",
              "    }\n",
              "</style>\n",
              "<table border=\"1\" class=\"dataframe\">\n",
              "  <thead>\n",
              "    <tr style=\"text-align: right;\">\n",
              "      <th></th>\n",
              "      <th>molecule_chembl_id</th>\n",
              "      <th>smiles</th>\n",
              "      <th>pIC50</th>\n",
              "    </tr>\n",
              "  </thead>\n",
              "  <tbody>\n",
              "    <tr>\n",
              "      <th>0</th>\n",
              "      <td>CHEMBL382617</td>\n",
              "      <td>Cc1ccn2c(CCc3nnc4cc(C)ccn34)nnc2c1</td>\n",
              "      <td>4.000000</td>\n",
              "    </tr>\n",
              "    <tr>\n",
              "      <th>1</th>\n",
              "      <td>CHEMBL383475</td>\n",
              "      <td>O=C(O)C(Cc1c[nH]c2ccccc12)N1C(=O)c2ccccc2C1=O</td>\n",
              "      <td>4.301030</td>\n",
              "    </tr>\n",
              "    <tr>\n",
              "      <th>2</th>\n",
              "      <td>CHEMBL418052</td>\n",
              "      <td>Nc1ncnc2c1ncn2[C@@H]1O[C@H](CSCC[C@H](N)C(=O)O...</td>\n",
              "      <td>5.698970</td>\n",
              "    </tr>\n",
              "    <tr>\n",
              "      <th>3</th>\n",
              "      <td>CHEMBL563570</td>\n",
              "      <td>N[C@@H](CCSC[C@H]1O[C@@H](n2cnc3cncnc32)[C@H](...</td>\n",
              "      <td>3.522879</td>\n",
              "    </tr>\n",
              "    <tr>\n",
              "      <th>4</th>\n",
              "      <td>CHEMBL561047</td>\n",
              "      <td>Nc1nccc2c1ncn2[C@@H]1O[C@H](CSCCC(N)C(=O)O)[C@...</td>\n",
              "      <td>4.346787</td>\n",
              "    </tr>\n",
              "    <tr>\n",
              "      <th>...</th>\n",
              "      <td>...</td>\n",
              "      <td>...</td>\n",
              "      <td>...</td>\n",
              "    </tr>\n",
              "    <tr>\n",
              "      <th>191</th>\n",
              "      <td>CHEMBL4869419</td>\n",
              "      <td>COc1cc2nc(-c3ccc(C)o3)cc(NCC3CCN(Cc4ccc(C(=O)N...</td>\n",
              "      <td>6.490797</td>\n",
              "    </tr>\n",
              "    <tr>\n",
              "      <th>192</th>\n",
              "      <td>CHEMBL4874514</td>\n",
              "      <td>COc1cc2nc(-c3ccc(C)o3)cc(NCC3CCN(C4CC(C(=O)NO)...</td>\n",
              "      <td>6.267606</td>\n",
              "    </tr>\n",
              "    <tr>\n",
              "      <th>193</th>\n",
              "      <td>CHEMBL4855461</td>\n",
              "      <td>COc1cc2nc(-c3ccc(C)o3)cc(N[C@H]3CC[C@@H](C(=O)...</td>\n",
              "      <td>5.575118</td>\n",
              "    </tr>\n",
              "    <tr>\n",
              "      <th>194</th>\n",
              "      <td>CHEMBL4856550</td>\n",
              "      <td>COc1cc2nc(-c3ccc(C)o3)cc(N[C@H]3CC[C@H](C(=O)N...</td>\n",
              "      <td>5.378824</td>\n",
              "    </tr>\n",
              "    <tr>\n",
              "      <th>195</th>\n",
              "      <td>CHEMBL4854659</td>\n",
              "      <td>COc1cc2nc(-c3ccc(C)o3)cc(NCC3CCN(c4ccc(C(=O)NO...</td>\n",
              "      <td>5.075204</td>\n",
              "    </tr>\n",
              "  </tbody>\n",
              "</table>\n",
              "<p>196 rows × 3 columns</p>\n",
              "</div>\n",
              "      <button class=\"colab-df-convert\" onclick=\"convertToInteractive('df-a34dafd5-fe02-436e-89b1-bbd098cfccb4')\"\n",
              "              title=\"Convert this dataframe to an interactive table.\"\n",
              "              style=\"display:none;\">\n",
              "        \n",
              "  <svg xmlns=\"http://www.w3.org/2000/svg\" height=\"24px\"viewBox=\"0 0 24 24\"\n",
              "       width=\"24px\">\n",
              "    <path d=\"M0 0h24v24H0V0z\" fill=\"none\"/>\n",
              "    <path d=\"M18.56 5.44l.94 2.06.94-2.06 2.06-.94-2.06-.94-.94-2.06-.94 2.06-2.06.94zm-11 1L8.5 8.5l.94-2.06 2.06-.94-2.06-.94L8.5 2.5l-.94 2.06-2.06.94zm10 10l.94 2.06.94-2.06 2.06-.94-2.06-.94-.94-2.06-.94 2.06-2.06.94z\"/><path d=\"M17.41 7.96l-1.37-1.37c-.4-.4-.92-.59-1.43-.59-.52 0-1.04.2-1.43.59L10.3 9.45l-7.72 7.72c-.78.78-.78 2.05 0 2.83L4 21.41c.39.39.9.59 1.41.59.51 0 1.02-.2 1.41-.59l7.78-7.78 2.81-2.81c.8-.78.8-2.07 0-2.86zM5.41 20L4 18.59l7.72-7.72 1.47 1.35L5.41 20z\"/>\n",
              "  </svg>\n",
              "      </button>\n",
              "      \n",
              "  <style>\n",
              "    .colab-df-container {\n",
              "      display:flex;\n",
              "      flex-wrap:wrap;\n",
              "      gap: 12px;\n",
              "    }\n",
              "\n",
              "    .colab-df-convert {\n",
              "      background-color: #E8F0FE;\n",
              "      border: none;\n",
              "      border-radius: 50%;\n",
              "      cursor: pointer;\n",
              "      display: none;\n",
              "      fill: #1967D2;\n",
              "      height: 32px;\n",
              "      padding: 0 0 0 0;\n",
              "      width: 32px;\n",
              "    }\n",
              "\n",
              "    .colab-df-convert:hover {\n",
              "      background-color: #E2EBFA;\n",
              "      box-shadow: 0px 1px 2px rgba(60, 64, 67, 0.3), 0px 1px 3px 1px rgba(60, 64, 67, 0.15);\n",
              "      fill: #174EA6;\n",
              "    }\n",
              "\n",
              "    [theme=dark] .colab-df-convert {\n",
              "      background-color: #3B4455;\n",
              "      fill: #D2E3FC;\n",
              "    }\n",
              "\n",
              "    [theme=dark] .colab-df-convert:hover {\n",
              "      background-color: #434B5C;\n",
              "      box-shadow: 0px 1px 3px 1px rgba(0, 0, 0, 0.15);\n",
              "      filter: drop-shadow(0px 1px 2px rgba(0, 0, 0, 0.3));\n",
              "      fill: #FFFFFF;\n",
              "    }\n",
              "  </style>\n",
              "\n",
              "      <script>\n",
              "        const buttonEl =\n",
              "          document.querySelector('#df-a34dafd5-fe02-436e-89b1-bbd098cfccb4 button.colab-df-convert');\n",
              "        buttonEl.style.display =\n",
              "          google.colab.kernel.accessAllowed ? 'block' : 'none';\n",
              "\n",
              "        async function convertToInteractive(key) {\n",
              "          const element = document.querySelector('#df-a34dafd5-fe02-436e-89b1-bbd098cfccb4');\n",
              "          const dataTable =\n",
              "            await google.colab.kernel.invokeFunction('convertToInteractive',\n",
              "                                                     [key], {});\n",
              "          if (!dataTable) return;\n",
              "\n",
              "          const docLinkHtml = 'Like what you see? Visit the ' +\n",
              "            '<a target=\"_blank\" href=https://colab.research.google.com/notebooks/data_table.ipynb>data table notebook</a>'\n",
              "            + ' to learn more about interactive tables.';\n",
              "          element.innerHTML = '';\n",
              "          dataTable['output_type'] = 'display_data';\n",
              "          await google.colab.output.renderOutput(dataTable, element);\n",
              "          const docLink = document.createElement('div');\n",
              "          docLink.innerHTML = docLinkHtml;\n",
              "          element.appendChild(docLink);\n",
              "        }\n",
              "      </script>\n",
              "    </div>\n",
              "  </div>\n",
              "  "
            ]
          },
          "metadata": {},
          "execution_count": 48
        }
      ]
    },
    {
      "cell_type": "code",
      "source": [
        "output_df_2.to_csv('output_df_2.csv', index=False)"
      ],
      "metadata": {
        "id": "Rq4_ttGkb3C6"
      },
      "execution_count": null,
      "outputs": []
    }
  ]
}